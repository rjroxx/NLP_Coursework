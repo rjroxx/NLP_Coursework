{
  "nbformat": 4,
  "nbformat_minor": 0,
  "metadata": {
    "colab": {
      "name": "Hw3.ipynb",
      "provenance": [],
      "collapsed_sections": [],
      "include_colab_link": true
    },
    "kernelspec": {
      "name": "python3",
      "display_name": "Python 3"
    },
    "accelerator": "GPU"
  },
  "cells": [
    {
      "cell_type": "markdown",
      "metadata": {
        "id": "view-in-github",
        "colab_type": "text"
      },
      "source": [
        "<a href=\"https://colab.research.google.com/github/rjroxx/NLP_Coursework/blob/master/Hw3.ipynb\" target=\"_parent\"><img src=\"https://colab.research.google.com/assets/colab-badge.svg\" alt=\"Open In Colab\"/></a>"
      ]
    },
    {
      "cell_type": "code",
      "metadata": {
        "id": "s19EjVtUFrcu",
        "colab_type": "code",
        "colab": {}
      },
      "source": [
        "from spacy.tokenizer import Tokenizer\n",
        "from spacy.lang.en import English\n",
        "from spacy.lemmatizer import Lemmatizer\n",
        "import pandas as pd\n",
        "import spacy\n",
        "import string\n",
        "import sys"
      ],
      "execution_count": 0,
      "outputs": []
    },
    {
      "cell_type": "code",
      "metadata": {
        "id": "X2zBa8A1iRgX",
        "colab_type": "code",
        "colab": {}
      },
      "source": [
        "url=\"http://snap.stanford.edu/data/amazon/productGraph/categoryFiles/reviews_Office_Products_5.json.gz\""
      ],
      "execution_count": 0,
      "outputs": []
    },
    {
      "cell_type": "code",
      "metadata": {
        "id": "QPG7XPURiTOi",
        "colab_type": "code",
        "colab": {}
      },
      "source": [
        "df=pd.read_json(url,lines=True)\n",
        "dp=df.head(30)"
      ],
      "execution_count": 0,
      "outputs": []
    },
    {
      "cell_type": "code",
      "metadata": {
        "id": "Y08uoVAUGk9Z",
        "colab_type": "code",
        "colab": {}
      },
      "source": [
        "sp = spacy.load('en_core_web_sm')\n",
        "pc=[string.punctuation]"
      ],
      "execution_count": 0,
      "outputs": []
    },
    {
      "cell_type": "code",
      "metadata": {
        "colab_type": "code",
        "id": "8mw4V-fe0YVL",
        "colab": {}
      },
      "source": [
        "#PipeLine\n",
        "def spacypipe(text):\n",
        "  t=sp(text)\n",
        "  dp=[(word.text,word.lemma_,word.pos_,word.dep_) if word.lemma_!='-PRON-' else (word.text,word.text,word.pos_,word.dep_) for word in t]\n",
        "  #img = spacy.displacy.render(t,jupyter=True,options={'compact' : True})\n",
        "  return dp"
      ],
      "execution_count": 0,
      "outputs": []
    },
    {
      "cell_type": "code",
      "metadata": {
        "colab_type": "code",
        "id": "AZMdXXIN0YVO",
        "colab": {}
      },
      "source": [
        "dp['spacy_dp']=dp.reviewText.apply(spacypipe)"
      ],
      "execution_count": 0,
      "outputs": []
    },
    {
      "cell_type": "code",
      "metadata": {
        "id": "FqhmweH0RK-o",
        "colab_type": "code",
        "outputId": "51301dd2-62c3-40e5-81cb-f45f1bf5d211",
        "colab": {
          "base_uri": "https://localhost:8080/",
          "height": 1000
        }
      },
      "source": [
        "dp['spacy_dp'][0]"
      ],
      "execution_count": 0,
      "outputs": [
        {
          "output_type": "execute_result",
          "data": {
            "text/plain": [
              "[('I', 'I', 'PRON', 'nsubj'),\n",
              " ('bought', 'buy', 'VERB', 'ROOT'),\n",
              " ('my', 'my', 'DET', 'poss'),\n",
              " ('first', 'first', 'ADJ', 'amod'),\n",
              " ('HP12C', 'hp12c', 'NOUN', 'dobj'),\n",
              " ('in', 'in', 'ADP', 'prep'),\n",
              " ('about', 'about', 'ADV', 'advmod'),\n",
              " ('1984', '1984', 'NUM', 'pobj'),\n",
              " ('or', 'or', 'CCONJ', 'cc'),\n",
              " ('so', 'so', 'ADV', 'conj'),\n",
              " (',', ',', 'PUNCT', 'punct'),\n",
              " ('and', 'and', 'CCONJ', 'cc'),\n",
              " ('it', 'it', 'PRON', 'nsubj'),\n",
              " ('served', 'serve', 'VERB', 'conj'),\n",
              " ('me', 'me', 'PRON', 'dobj'),\n",
              " ('faithfully', 'faithfully', 'ADV', 'advmod'),\n",
              " ('until', 'until', 'ADP', 'prep'),\n",
              " ('2002', '2002', 'NUM', 'pobj'),\n",
              " ('when', 'when', 'ADV', 'advmod'),\n",
              " ('I', 'I', 'PRON', 'nsubj'),\n",
              " ('lost', 'lose', 'VERB', 'relcl'),\n",
              " ('it', 'it', 'PRON', 'dobj'),\n",
              " ('while', 'while', 'ADP', 'mark'),\n",
              " ('travelling', 'travel', 'VERB', 'advcl'),\n",
              " ('.', '.', 'PUNCT', 'punct'),\n",
              " (' ', ' ', 'SPACE', ''),\n",
              " ('I', 'I', 'PRON', 'nsubj'),\n",
              " ('searched', 'search', 'VERB', 'ROOT'),\n",
              " ('for', 'for', 'ADP', 'prep'),\n",
              " ('another', 'another', 'DET', 'det'),\n",
              " ('one', 'one', 'NOUN', 'pobj'),\n",
              " ('to', 'to', 'PART', 'aux'),\n",
              " ('replace', 'replace', 'VERB', 'relcl'),\n",
              " ('it', 'it', 'PRON', 'dobj'),\n",
              " (',', ',', 'PUNCT', 'punct'),\n",
              " ('but', 'but', 'CCONJ', 'cc'),\n",
              " ('found', 'find', 'VERB', 'conj'),\n",
              " ('one', 'one', 'NUM', 'nsubj'),\n",
              " ('difficult', 'difficult', 'ADJ', 'ccomp'),\n",
              " ('to', 'to', 'PART', 'aux'),\n",
              " ('come', 'come', 'VERB', 'xcomp'),\n",
              " ('by', 'by', 'PART', 'prt'),\n",
              " ('in', 'in', 'ADP', 'prep'),\n",
              " ('my', 'my', 'DET', 'poss'),\n",
              " ('area', 'area', 'NOUN', 'pobj'),\n",
              " ('.', '.', 'PUNCT', 'punct'),\n",
              " (' ', ' ', 'SPACE', ''),\n",
              " ('So', 'so', 'ADV', 'advmod'),\n",
              " (',', ',', 'PUNCT', 'punct'),\n",
              " ('I', 'I', 'PRON', 'nsubj'),\n",
              " ('decided', 'decide', 'VERB', 'ROOT'),\n",
              " ('to', 'to', 'PART', 'aux'),\n",
              " ('buy', 'buy', 'VERB', 'xcomp'),\n",
              " ('up', 'up', 'PART', 'prt'),\n",
              " ('and', 'and', 'CCONJ', 'cc'),\n",
              " ('purchased', 'purchase', 'VERB', 'conj'),\n",
              " ('an', 'an', 'DET', 'det'),\n",
              " ('HP', 'HP', 'PROPN', 'compound'),\n",
              " ('49G.', '49g.', 'NUM', 'dobj'),\n",
              " (' ', ' ', 'SPACE', ''),\n",
              " ('What', 'what', 'DET', 'det'),\n",
              " ('a', 'a', 'DET', 'det'),\n",
              " ('mistake', 'mistake', 'NOUN', 'ROOT'),\n",
              " ('!', '!', 'PUNCT', 'punct'),\n",
              " (' ', ' ', 'SPACE', ''),\n",
              " ('I', 'I', 'PRON', 'nsubj'),\n",
              " ('know', 'know', 'VERB', 'ROOT'),\n",
              " ('that', 'that', 'ADP', 'mark'),\n",
              " ('many', 'many', 'ADJ', 'amod'),\n",
              " ('people', 'people', 'NOUN', 'nsubj'),\n",
              " ('view', 'view', 'VERB', 'ccomp'),\n",
              " ('the', 'the', 'DET', 'det'),\n",
              " ('HP', 'HP', 'PROPN', 'nmod'),\n",
              " ('49', '49', 'NUM', 'nummod'),\n",
              " ('G', 'G', 'PROPN', 'dobj'),\n",
              " ('(', '(', 'PUNCT', 'punct'),\n",
              " ('now', 'now', 'ADV', 'advmod'),\n",
              " ('49G+', '49g+', 'NUM', 'appos'),\n",
              " (')', ')', 'PUNCT', 'punct'),\n",
              " ('as', 'as', 'ADP', 'prep'),\n",
              " ('the', 'the', 'DET', 'det'),\n",
              " ('flagship', 'flagship', 'NOUN', 'pobj'),\n",
              " ('of', 'of', 'ADP', 'prep'),\n",
              " ('the', 'the', 'DET', 'det'),\n",
              " ('HP', 'HP', 'PROPN', 'compound'),\n",
              " ('line', 'line', 'NOUN', 'pobj'),\n",
              " (',', ',', 'PUNCT', 'punct'),\n",
              " ('but', 'but', 'CCONJ', 'cc'),\n",
              " ('for', 'for', 'ADP', 'prep'),\n",
              " ('me', 'me', 'PRON', 'pobj'),\n",
              " ('that', 'that', 'DET', 'nsubj'),\n",
              " ('was', 'be', 'VERB', 'conj'),\n",
              " ('a', 'a', 'DET', 'det'),\n",
              " ('disaster', 'disaster', 'NOUN', 'attr'),\n",
              " ('.', '.', 'PUNCT', 'punct'),\n",
              " ('The', 'the', 'DET', 'det'),\n",
              " ('49', '49', 'NUM', 'nummod'),\n",
              " ('G', 'g', 'NOUN', 'nsubj'),\n",
              " ('may', 'may', 'VERB', 'aux'),\n",
              " ('be', 'be', 'VERB', 'ROOT'),\n",
              " ('powerful', 'powerful', 'ADJ', 'acomp'),\n",
              " (',', ',', 'PUNCT', 'punct'),\n",
              " ('but', 'but', 'CCONJ', 'cc'),\n",
              " ('using', 'use', 'VERB', 'csubj'),\n",
              " ('it', 'it', 'PRON', 'dobj'),\n",
              " ('is', 'be', 'VERB', 'conj'),\n",
              " ('extremely', 'extremely', 'ADV', 'advmod'),\n",
              " ('counterintuitive', 'counterintuitive', 'ADJ', 'acomp'),\n",
              " ('...', '...', 'PUNCT', 'punct'),\n",
              " ('and', 'and', 'CCONJ', 'cc'),\n",
              " ('the', 'the', 'DET', 'det'),\n",
              " ('manual', 'manual', 'NOUN', 'nsubj'),\n",
              " ('was', 'be', 'VERB', 'conj'),\n",
              " ('sketchy', 'sketchy', 'ADJ', 'acomp'),\n",
              " ('at', 'at', 'ADP', 'advmod'),\n",
              " ('best', 'good', 'ADJ', 'advmod'),\n",
              " ('.', '.', 'PUNCT', 'punct'),\n",
              " (' ', ' ', 'SPACE', ''),\n",
              " ('The', 'the', 'DET', 'det'),\n",
              " ('12C', '12c', 'NUM', 'nsubj'),\n",
              " (',', ',', 'PUNCT', 'punct'),\n",
              " ('on', 'on', 'ADP', 'prep'),\n",
              " ('the', 'the', 'DET', 'det'),\n",
              " ('other', 'other', 'ADJ', 'amod'),\n",
              " ('hand', 'hand', 'NOUN', 'pobj'),\n",
              " (',', ',', 'PUNCT', 'punct'),\n",
              " ('does', 'do', 'VERB', 'ROOT'),\n",
              " ('what', 'what', 'PRON', 'dobj'),\n",
              " ('I', 'I', 'PRON', 'nsubj'),\n",
              " ('need', 'need', 'VERB', 'ccomp'),\n",
              " ('in', 'in', 'ADP', 'prep'),\n",
              " ('a', 'a', 'DET', 'det'),\n",
              " ('way', 'way', 'NOUN', 'pobj'),\n",
              " ('that', 'that', 'DET', 'nsubj'),\n",
              " ('makes', 'make', 'VERB', 'relcl'),\n",
              " ('good', 'good', 'ADJ', 'amod'),\n",
              " ('sense', 'sense', 'NOUN', 'dobj'),\n",
              " ('to', 'to', 'ADP', 'dative'),\n",
              " ('me', 'me', 'PRON', 'pobj'),\n",
              " ('.', '.', 'PUNCT', 'punct'),\n",
              " ('If', 'if', 'ADP', 'mark'),\n",
              " ('you', 'you', 'PRON', 'nsubj'),\n",
              " ('are', 'be', 'VERB', 'aux'),\n",
              " ('looking', 'look', 'VERB', 'advcl'),\n",
              " ('for', 'for', 'ADP', 'prep'),\n",
              " ('a', 'a', 'DET', 'det'),\n",
              " ('solid', 'solid', 'ADJ', 'amod'),\n",
              " (',', ',', 'PUNCT', 'punct'),\n",
              " ('reliable', 'reliable', 'ADJ', 'amod'),\n",
              " ('calculator', 'calculator', 'NOUN', 'pobj'),\n",
              " (',', ',', 'PUNCT', 'punct'),\n",
              " ('the', 'the', 'DET', 'det'),\n",
              " ('HP12C', 'hp12c', 'NOUN', 'nsubj'),\n",
              " ('may', 'may', 'VERB', 'aux'),\n",
              " ('be', 'be', 'VERB', 'ROOT'),\n",
              " ('for', 'for', 'ADP', 'prep'),\n",
              " ('you', 'you', 'PRON', 'pobj'),\n",
              " ('.', '.', 'PUNCT', 'punct'),\n",
              " (' ', ' ', 'SPACE', ''),\n",
              " ('It', 'It', 'PRON', 'nsubj'),\n",
              " (\"'s\", 'be', 'VERB', 'ROOT'),\n",
              " ('programmable', 'programmable', 'ADJ', 'acomp'),\n",
              " ('.', '.', 'PUNCT', 'punct'),\n",
              " (' ', ' ', 'SPACE', ''),\n",
              " ('It', 'It', 'PRON', 'nsubj'),\n",
              " ('does', 'do', 'VERB', 'ROOT'),\n",
              " ('basic', 'basic', 'ADJ', 'amod'),\n",
              " ('statistics', 'statistic', 'NOUN', 'dobj'),\n",
              " ('well', 'well', 'ADV', 'advmod'),\n",
              " (',', ',', 'PUNCT', 'punct'),\n",
              " ('and', 'and', 'CCONJ', 'cc'),\n",
              " ('many', 'many', 'ADJ', 'amod'),\n",
              " ('business', 'business', 'NOUN', 'compound'),\n",
              " ('applications', 'application', 'NOUN', 'conj'),\n",
              " ('too', 'too', 'ADV', 'advmod'),\n",
              " ('.', '.', 'PUNCT', 'punct'),\n",
              " (' ', ' ', 'SPACE', ''),\n",
              " ('The', 'the', 'DET', 'det'),\n",
              " ('manual', 'manual', 'NOUN', 'nsubj'),\n",
              " ('makes', 'make', 'VERB', 'ccomp'),\n",
              " ('sense', 'sense', 'NOUN', 'dobj'),\n",
              " (';', ';', 'PUNCT', 'punct'),\n",
              " ('you', 'you', 'PRON', 'nsubj'),\n",
              " ('will', 'will', 'VERB', 'aux'),\n",
              " ('be', 'be', 'VERB', 'ROOT'),\n",
              " ('up', 'up', 'ADV', 'advmod'),\n",
              " ('and', 'and', 'CCONJ', 'cc'),\n",
              " ('running', 'run', 'VERB', 'conj'),\n",
              " ('in', 'in', 'ADP', 'prep'),\n",
              " ('short', 'short', 'ADJ', 'amod'),\n",
              " ('order', 'order', 'NOUN', 'pobj'),\n",
              " ('.', '.', 'PUNCT', 'punct'),\n",
              " (\"I'm\", \"i'm\", 'PRON', 'nsubj'),\n",
              " ('ready', 'ready', 'ADJ', 'ROOT'),\n",
              " ('to', 'to', 'PART', 'aux'),\n",
              " ('set', 'set', 'VERB', 'xcomp'),\n",
              " ('my', 'my', 'DET', 'poss'),\n",
              " ('49', '49', 'NUM', 'nummod'),\n",
              " ('G', 'g', 'NOUN', 'dobj'),\n",
              " ('aside', 'aside', 'ADV', 'advmod'),\n",
              " ('and', 'and', 'CCONJ', 'cc'),\n",
              " ('move', 'move', 'VERB', 'conj'),\n",
              " ('back', 'back', 'ADV', 'advmod'),\n",
              " ('to', 'to', 'ADP', 'prep'),\n",
              " ('my', 'my', 'DET', 'poss'),\n",
              " ('old', 'old', 'ADJ', 'amod'),\n",
              " ('friend', 'friend', 'NOUN', 'pobj'),\n",
              " ('.', '.', 'PUNCT', 'punct'),\n",
              " (' ', ' ', 'SPACE', ''),\n",
              " ('I', 'I', 'PRON', 'nsubj'),\n",
              " ('did', 'do', 'VERB', 'aux'),\n",
              " (\"n't\", 'not', 'ADV', 'neg'),\n",
              " ('even', 'even', 'ADV', 'advmod'),\n",
              " ('have', 'have', 'VERB', 'ccomp'),\n",
              " ('to', 'to', 'PART', 'aux'),\n",
              " ('replace', 'replace', 'VERB', 'xcomp'),\n",
              " ('the', 'the', 'DET', 'det'),\n",
              " ('batteries', 'battery', 'NOUN', 'dobj'),\n",
              " ('in', 'in', 'ADP', 'prep'),\n",
              " ('well', 'well', 'ADV', 'advmod'),\n",
              " ('over', 'over', 'ADP', 'prep'),\n",
              " ('a', 'a', 'DET', 'det'),\n",
              " ('decade', 'decade', 'NOUN', 'pobj'),\n",
              " ('of', 'of', 'ADP', 'prep'),\n",
              " ('use!HP', 'use!hp', 'ADJ', 'amod'),\n",
              " ('12C', '12c', 'NUM', 'pobj'),\n",
              " (',', ',', 'PUNCT', 'punct'),\n",
              " ('I', 'I', 'PRON', 'nsubj'),\n",
              " (\"'m\", 'be', 'VERB', 'aux'),\n",
              " ('coming', 'come', 'VERB', 'ROOT'),\n",
              " ('home', 'home', 'ADV', 'advmod'),\n",
              " ('!', '!', 'PUNCT', 'punct')]"
            ]
          },
          "metadata": {
            "tags": []
          },
          "execution_count": 101
        }
      ]
    },
    {
      "cell_type": "code",
      "metadata": {
        "id": "8QzYV5StNwYj",
        "colab_type": "code",
        "colab": {}
      },
      "source": [
        "#NOUN\n",
        "def c1(text):\n",
        "  t=sp(text)\n",
        "  nn = [word.text for word in t if word.pos_ == 'NOUN']\n",
        "  return nn"
      ],
      "execution_count": 0,
      "outputs": []
    },
    {
      "cell_type": "code",
      "metadata": {
        "id": "7QAfWL0ztktZ",
        "colab_type": "code",
        "colab": {
          "base_uri": "https://localhost:8080/",
          "height": 442
        },
        "outputId": "d3654f32-ab67-4d47-8b33-1b3c39060918"
      },
      "source": [
        "c1(dp['reviewText'][0])"
      ],
      "execution_count": 109,
      "outputs": [
        {
          "output_type": "execute_result",
          "data": {
            "text/plain": [
              "['HP12C',\n",
              " 'one',\n",
              " 'area',\n",
              " 'mistake',\n",
              " 'people',\n",
              " 'flagship',\n",
              " 'line',\n",
              " 'disaster',\n",
              " 'G',\n",
              " 'manual',\n",
              " 'hand',\n",
              " 'way',\n",
              " 'sense',\n",
              " 'calculator',\n",
              " 'HP12C',\n",
              " 'statistics',\n",
              " 'business',\n",
              " 'applications',\n",
              " 'manual',\n",
              " 'sense',\n",
              " 'order',\n",
              " 'G',\n",
              " 'friend',\n",
              " 'batteries',\n",
              " 'decade']"
            ]
          },
          "metadata": {
            "tags": []
          },
          "execution_count": 109
        }
      ]
    }
  ]
}
