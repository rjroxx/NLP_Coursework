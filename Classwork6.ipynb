{
  "nbformat": 4,
  "nbformat_minor": 0,
  "metadata": {
    "colab": {
      "name": "Classwork6.ipynb",
      "provenance": [],
      "collapsed_sections": [],
      "include_colab_link": true
    },
    "kernelspec": {
      "name": "python3",
      "display_name": "Python 3"
    }
  },
  "cells": [
    {
      "cell_type": "markdown",
      "metadata": {
        "id": "view-in-github",
        "colab_type": "text"
      },
      "source": [
        "<a href=\"https://colab.research.google.com/github/rjroxx/NLP_Coursework/blob/master/Classwork6.ipynb\" target=\"_parent\"><img src=\"https://colab.research.google.com/assets/colab-badge.svg\" alt=\"Open In Colab\"/></a>"
      ]
    },
    {
      "cell_type": "code",
      "metadata": {
        "id": "8hCBJBqIWSHG",
        "colab_type": "code",
        "colab": {
          "base_uri": "https://localhost:8080/",
          "height": 102
        },
        "outputId": "4d73a7df-24dd-47e0-9d1d-3711152fdbb0"
      },
      "source": [
        "import pandas as pd\n",
        "import numpy as np\n",
        "import string \n",
        "import nltk\n",
        "from nltk import word_tokenize\n",
        "from nltk.corpus import stopwords\n",
        "from sklearn.ensemble import RandomForestClassifier\n",
        "from sklearn.feature_extraction.text import TfidfTransformer,CountVectorizer,TfidfVectorizer\n",
        "from sklearn.preprocessing import LabelEncoder\n",
        "from sklearn.metrics import classification_report\n",
        "from sklearn.model_selection import train_test_split as tts,GridSearchCV\n",
        "from sklearn.pipeline import Pipeline\n",
        "!pip install lightgbm\n",
        "import lightgbm as lgb"
      ],
      "execution_count": 29,
      "outputs": [
        {
          "output_type": "stream",
          "text": [
            "Requirement already satisfied: lightgbm in /usr/local/lib/python3.6/dist-packages (2.2.3)\n",
            "Requirement already satisfied: scipy in /usr/local/lib/python3.6/dist-packages (from lightgbm) (1.3.3)\n",
            "Requirement already satisfied: numpy in /usr/local/lib/python3.6/dist-packages (from lightgbm) (1.17.4)\n",
            "Requirement already satisfied: scikit-learn in /usr/local/lib/python3.6/dist-packages (from lightgbm) (0.21.3)\n",
            "Requirement already satisfied: joblib>=0.11 in /usr/local/lib/python3.6/dist-packages (from scikit-learn->lightgbm) (0.14.1)\n"
          ],
          "name": "stdout"
        }
      ]
    },
    {
      "cell_type": "code",
      "metadata": {
        "id": "Z8ZzdRxYWesz",
        "colab_type": "code",
        "outputId": "0ffd4858-6b4d-47d9-f8ff-83a2a3dd373d",
        "colab": {
          "base_uri": "https://localhost:8080/",
          "height": 136
        }
      },
      "source": [
        "nltk.download('punkt')\n",
        "nltk.download('stopwords')\n",
        "nltk.download('words')"
      ],
      "execution_count": 2,
      "outputs": [
        {
          "output_type": "stream",
          "text": [
            "[nltk_data] Downloading package punkt to /root/nltk_data...\n",
            "[nltk_data]   Unzipping tokenizers/punkt.zip.\n",
            "[nltk_data] Downloading package stopwords to /root/nltk_data...\n",
            "[nltk_data]   Unzipping corpora/stopwords.zip.\n",
            "[nltk_data] Downloading package words to /root/nltk_data...\n",
            "[nltk_data]   Unzipping corpora/words.zip.\n"
          ],
          "name": "stdout"
        },
        {
          "output_type": "execute_result",
          "data": {
            "text/plain": [
              "True"
            ]
          },
          "metadata": {
            "tags": []
          },
          "execution_count": 2
        }
      ]
    },
    {
      "cell_type": "code",
      "metadata": {
        "id": "PfZIGP7gJyHx",
        "colab_type": "code",
        "colab": {}
      },
      "source": [
        "sw = set(stopwords.words('english'))"
      ],
      "execution_count": 0,
      "outputs": []
    },
    {
      "cell_type": "code",
      "metadata": {
        "id": "Q_v0IL3hWkOJ",
        "colab_type": "code",
        "colab": {}
      },
      "source": [
        "url=(\"http://snap.stanford.edu/data/amazon/productGraph/categoryFiles/reviews_Office_Products_5.json.gz\")\n",
        "df = pd.read_json(url,lines=True)\n",
        "dt = dt.head(1000)\n",
        "url1=\"https://raw.githubusercontent.com/zfz/twitter_corpus/master/full-corpus.csv\"\n",
        "dt=pd.read_csv(url1)"
      ],
      "execution_count": 0,
      "outputs": []
    },
    {
      "cell_type": "code",
      "metadata": {
        "id": "stsLplSHWkVr",
        "colab_type": "code",
        "outputId": "a3c8a6e9-bc6c-40b6-8384-449077eb93b7",
        "colab": {
          "base_uri": "https://localhost:8080/",
          "height": 34
        }
      },
      "source": [
        "Sentence = dt['TweetText'][5]\n",
        "Sentence"
      ],
      "execution_count": 9,
      "outputs": [
        {
          "output_type": "execute_result",
          "data": {
            "text/plain": [
              "\"I'm a current @Blackberry user, little bit disappointed with it! Should I move to @Android or @Apple @iphone\""
            ]
          },
          "metadata": {
            "tags": []
          },
          "execution_count": 9
        }
      ]
    },
    {
      "cell_type": "code",
      "metadata": {
        "id": "uOneRwwwWkLa",
        "colab_type": "code",
        "colab": {}
      },
      "source": [
        "def c1(Sentence):\n",
        "  wt = word_tokenize(c2(Sentence.lower()))   \n",
        "  s = [] \n",
        "  for w in wt: \n",
        "      if w not in sw: \n",
        "          s.append(w) \n",
        "  return s  "
      ],
      "execution_count": 0,
      "outputs": []
    },
    {
      "cell_type": "code",
      "metadata": {
        "id": "diJhAZ6BWkSm",
        "colab_type": "code",
        "colab": {}
      },
      "source": [
        "def c2(data):\n",
        "  d = data\n",
        "  translator = str.maketrans('', '', '!\"#$%&\\'()*+,-./:;<=>?@[\\\\]^_`{|}~1234567890')\n",
        "  d = d.translate(translator)\n",
        "  return d"
      ],
      "execution_count": 0,
      "outputs": []
    },
    {
      "cell_type": "code",
      "metadata": {
        "id": "3sQtaQTqWkIJ",
        "colab_type": "code",
        "outputId": "a4c04dc4-cad9-4c49-d92a-d9e4da649544",
        "colab": {
          "base_uri": "https://localhost:8080/",
          "height": 204
        }
      },
      "source": [
        "sent = c1(Sentence)\n",
        "sent"
      ],
      "execution_count": 15,
      "outputs": [
        {
          "output_type": "execute_result",
          "data": {
            "text/plain": [
              "['im',\n",
              " 'current',\n",
              " 'blackberry',\n",
              " 'user',\n",
              " 'little',\n",
              " 'bit',\n",
              " 'disappointed',\n",
              " 'move',\n",
              " 'android',\n",
              " 'apple',\n",
              " 'iphone']"
            ]
          },
          "metadata": {
            "tags": []
          },
          "execution_count": 15
        }
      ]
    },
    {
      "cell_type": "code",
      "metadata": {
        "id": "uBW0TRlvYDgW",
        "colab_type": "code",
        "colab": {}
      },
      "source": [
        "def convert(lst):\n",
        "  lst = c1(lst)        \n",
        "  return ' '.join(lst)"
      ],
      "execution_count": 0,
      "outputs": []
    },
    {
      "cell_type": "code",
      "metadata": {
        "id": "Ol4o6CqOYDji",
        "colab_type": "code",
        "colab": {}
      },
      "source": [
        "def c3(Sentence):# To remove the non english words\n",
        "\n",
        "  words = set(nltk.corpus.words.words())\n",
        "\n",
        "  sent = Sentence\n",
        "  Clean = \" \".join(w for w in nltk.wordpunct_tokenize(sent) \\\n",
        "            if w.lower() in words or not w.isalpha())\n",
        "  return Clean"
      ],
      "execution_count": 0,
      "outputs": []
    },
    {
      "cell_type": "code",
      "metadata": {
        "id": "Vw3K_zB1YDdQ",
        "colab_type": "code",
        "colab": {}
      },
      "source": [
        "dt['Cleaned_tweet'] = dt['TweetText'].apply(convert)\n",
        "dt['Cleaned_tweet'] = dt['Cleaned_tweet'].apply(c2)\n",
        "dt['Cleaned_tweet'] = dt['Cleaned_tweet'].apply(c3)"
      ],
      "execution_count": 0,
      "outputs": []
    },
    {
      "cell_type": "code",
      "metadata": {
        "id": "XY7xqrjZYQ4y",
        "colab_type": "code",
        "outputId": "636aac68-24e5-4ee3-be7a-2fd203b9def2",
        "colab": {
          "base_uri": "https://localhost:8080/",
          "height": 221
        }
      },
      "source": [
        "dt['Cleaned_tweet']"
      ],
      "execution_count": 19,
      "outputs": [
        {
          "output_type": "execute_result",
          "data": {
            "text/plain": [
              "0                                         apple get crack\n",
              "1                                   apple carrier support\n",
              "2       hilarious video guy duet apple pretty much lov...\n",
              "3                       rim made easy switch apple see ya\n",
              "4                         reason got twitter thanks apple\n",
              "                              ...                        \n",
              "5108                                          con twitter\n",
              "5109                                              twitter\n",
              "5110                                twitter la mala de yo\n",
              "5111                                              twitter\n",
              "5112                               os para e e twitter da\n",
              "Name: Cleaned_tweet, Length: 5113, dtype: object"
            ]
          },
          "metadata": {
            "tags": []
          },
          "execution_count": 19
        }
      ]
    },
    {
      "cell_type": "code",
      "metadata": {
        "id": "NtT0nrKIYRKe",
        "colab_type": "code",
        "outputId": "80d85ce7-422d-47a6-95b2-dd5fcc280fb4",
        "colab": {
          "base_uri": "https://localhost:8080/",
          "height": 68
        }
      },
      "source": [
        "steps = [('text',CountVectorizer()),('ensemble',RandomForestClassifier())]\n",
        "p = Pipeline(steps)\n",
        "dt.columns"
      ],
      "execution_count": 20,
      "outputs": [
        {
          "output_type": "execute_result",
          "data": {
            "text/plain": [
              "Index(['Topic', 'Sentiment', 'TweetId', 'TweetDate', 'TweetText',\n",
              "       'Cleaned_tweet'],\n",
              "      dtype='object')"
            ]
          },
          "metadata": {
            "tags": []
          },
          "execution_count": 20
        }
      ]
    },
    {
      "cell_type": "code",
      "metadata": {
        "id": "evnusa-HYQ1e",
        "colab_type": "code",
        "outputId": "fcc7310d-8351-439c-a810-d3b1dd6704a2",
        "colab": {
          "base_uri": "https://localhost:8080/",
          "height": 54
        }
      },
      "source": [
        "vt = CountVectorizer()\n",
        "X = vt.fit_transform(dt['Cleaned_tweet'])\n",
        "print(vt.get_feature_names())\n",
        "x_train,x_test,y_train,y_test = tts(X,dt['Sentiment'],test_size=0.3, random_state=30)"
      ],
      "execution_count": 32,
      "outputs": [
        {
          "output_type": "stream",
          "text": [
            "['aa', 'abandoned', 'abbas', 'ability', 'able', 'absolutely', 'abstract', 'academy', 'accelerate', 'accelerated', 'acceleration', 'accent', 'acceptable', 'access', 'accessibility', 'accidently', 'accord', 'according', 'account', 'accuracy', 'accused', 'ach', 'acme', 'acquire', 'acquisition', 'across', 'acting', 'action', 'active', 'activity', 'actual', 'actually', 'ad', 'adat', 'aday', 'add', 'added', 'addict', 'addicted', 'additional', 'address', 'administrator', 'admirably', 'admit', 'adobe', 'adopted', 'adoption', 'adult', 'advance', 'advanced', 'advantage', 'advertise', 'advertisement', 'advertising', 'advisor', 'ae', 'affair', 'affect', 'afford', 'after', 'afternoon', 'afterthought', 'age', 'agency', 'agenda', 'aggressive', 'ago', 'agora', 'agree', 'agricole', 'ah', 'aha', 'ahead', 'ai', 'ailing', 'aim', 'aint', 'air', 'airdrop', 'airport', 'ak', 'aka', 'al', 'ala', 'alamo', 'alarm', 'albatross', 'album', 'alchemy', 'alcohol', 'alert', 'algorithm', 'alive', 'allow', 'ally', 'almost', 'alone', 'along', 'alongside', 'already', 'alright', 'also', 'alternate', 'alternative', 'although', 'alto', 'always', 'ama', 'amateur', 'amazed', 'amazing', 'ame', 'amongst', 'amor', 'amount', 'amused', 'ana', 'analyse', 'analysis', 'analytics', 'and', 'anda', 'android', 'angel', 'angle', 'angry', 'angst', 'anniversary', 'announce', 'announcement', 'annoying', 'anonymous', 'another', 'answer', 'antes', 'anti', 'antitrust', 'antivirus', 'anyone', 'anything', 'anyway', 'apa', 'apache', 'apart', 'apologize', 'apology', 'apparently', 'appeal', 'appear', 'apple', 'application', 'applied', 'apply', 'appointment', 'approach', 'appropriately', 'approximation', 'apt', 'ar', 'arbitrary', 'arc', 'architecture', 'area', 'arent', 'argument', 'aria', 'arm', 'around', 'arrival', 'arrive', 'arriver', 'arrogance', 'arrogant', 'art', 'article', 'artisan', 'artist', 'aside', 'ask', 'asp', 'ass', 'assessment', 'assets', 'assistant', 'asta', 'astounding', 'ate', 'attend', 'attention', 'audio', 'august', 'aula', 'authorization', 'authorize', 'authorized', 'auto', 'autograph', 'automatically', 'autopilot', 'availability', 'available', 'ave', 'avenue', 'average', 'aw', 'award', 'away', 'awesome', 'awesomeness', 'awful', 'awfully', 'awkward', 'ax', 'ay', 'aye', 'azure', 'ba', 'babe', 'baby', 'back', 'backdrop', 'background', 'backside', 'backup', 'backwards', 'bad', 'badge', 'bag', 'bah', 'baked', 'balance', 'ball', 'ban', 'banda', 'bando', 'bangkok', 'banking', 'bar', 'bargain', 'barge', 'barn', 'barometer', 'barra', 'baru', 'base', 'based', 'basic', 'basically', 'basis', 'basketball', 'basta', 'batman', 'battery', 'batting', 'battle', 'bay', 'beam', 'beaming', 'bear', 'beat', 'beating', 'beau', 'beautiful', 'become', 'becoming', 'bed', 'bedtime', 'bee', 'beef', 'beeline', 'bees', 'beg', 'begging', 'begin', 'beginning', 'behind', 'beira', 'bela', 'believe', 'belle', 'belong', 'ben', 'beneficial', 'benefit', 'berlin', 'berry', 'besa', 'best', 'bet', 'beta', 'better', 'beware', 'beyond', 'bibliography', 'bidirectional', 'bien', 'big', 'biggest', 'bill', 'billion', 'bind', 'bing', 'bingo', 'bird', 'birthday', 'bit', 'bitch', 'bite', 'biting', 'biz', 'black', 'blackberry', 'blade', 'blame', 'blank', 'blast', 'blasting', 'blatant', 'blaze', 'blazer', 'blend', 'bless', 'blessed', 'blessing', 'blob', 'block', 'blocked', 'bloody', 'blow', 'blowing', 'blown', 'blue', 'blues', 'boa', 'board', 'bob', 'boba', 'bode', 'body', 'bogus', 'bola', 'bolivia', 'bom', 'bon', 'bond', 'bong', 'bonito', 'boo', 'book', 'bookcase', 'booked', 'bookmark', 'boost', 'boot', 'booted', 'booth', 'bor', 'bora', 'boring', 'bort', 'bosch', 'boss', 'boston', 'bot', 'bother', 'bottom', 'bought', 'bounce', 'bound', 'bouquet', 'bout', 'bowl', 'box', 'boy', 'brain', 'branch', 'brand', 'brat', 'bravo', 'break', 'breakfast', 'breaking', 'breve', 'brick', 'bridge', 'brief', 'briefing', 'brightness', 'brilliance', 'brilliant', 'brin', 'bring', 'brit', 'broadly', 'broke', 'broken', 'broo', 'brother', 'brought', 'brown', 'browse', 'browser', 'browsing', 'bruise', 'bu', 'bud', 'buddy', 'buffalo', 'bug', 'buggy', 'build', 'building', 'built', 'bullet', 'bulletin', 'bulletproof', 'bullying', 'bummer', 'bump', 'bunch', 'bunny', 'buried', 'burn', 'bus', 'business', 'busy', 'busyness', 'butler', 'butt', 'buttery', 'button', 'buttons', 'buy', 'buzz', 'by', 'bye', 'cable', 'cade', 'cake', 'calendar', 'call', 'calling', 'came', 'camera', 'camp', 'campaign', 'camper', 'campus', 'canada', 'cancer', 'canon', 'canso', 'cant', 'cap', 'capability', 'capacity', 'capital', 'capped', 'captain', 'capture', 'car', 'caramba', 'card', 'care', 'careful', 'carrier', 'carry', 'carrying', 'cartoon', 'case', 'cash', 'cast', 'castle', 'cat', 'catastrophe', 'catastrophically', 'catch', 'catchment', 'catchy', 'caught', 'cause', 'caution', 'cautious', 'ce', 'cedula', 'celebrity', 'censorship', 'cent', 'center', 'central', 'centrum', 'ceremoniously', 'certain', 'certificate', 'certification', 'certified', 'cerulean', 'cesspit', 'cest', 'chairman', 'champ', 'chance', 'change', 'changer', 'channel', 'chao', 'chaos', 'charade', 'charge', 'charger', 'charging', 'charity', 'chart', 'chat', 'che', 'cheap', 'cheat', 'check', 'checked', 'checkup', 'cheer', 'cheque', 'chest', 'chick', 'chicken', 'chief', 'child', 'chill', 'china', 'chips', 'choice', 'choose', 'choosy', 'chose', 'chosen', 'chrome', 'circle', 'cisco', 'citizenship', 'city', 'claim', 'claro', 'class', 'classes', 'classic', 'classroom', 'clavier', 'clean', 'clear', 'clearance', 'click', 'client', 'clock', 'close', 'closed', 'closely', 'closer', 'closet', 'clothes', 'clothing', 'cloud', 'cloudy', 'club', 'clue', 'cluster', 'coach', 'coast', 'cobra', 'cod', 'code', 'cofounder', 'coincide', 'coincidence', 'colin', 'collaboration', 'colleague', 'collection', 'college', 'color', 'colorful', 'colour', 'combat', 'combination', 'combine', 'come', 'comes', 'coming', 'comment', 'commercial', 'commodity', 'commons', 'community', 'compact', 'companion', 'company', 'comparison', 'compatibility', 'compatible', 'compelling', 'compete', 'competition', 'competitive', 'competitor', 'compilation', 'compiler', 'complain', 'complete', 'completely', 'complex', 'compliance', 'complicated', 'compo', 'component', 'compose', 'composite', 'computer', 'con', 'concept', 'concerned', 'concrete', 'concurrent', 'conductive', 'conference', 'confidence', 'configure', 'confirmed', 'conflict', 'confused', 'connect', 'connected', 'connection', 'connectivity', 'connector', 'consider', 'consideration', 'considered', 'considering', 'console', 'consolidation', 'conspiracy', 'constrained', 'consulting', 'consumer', 'contact', 'contender', 'content', 'contest', 'continue', 'continued', 'continuous', 'continuously', 'continuum', 'contra', 'contract', 'contrast', 'control', 'controller', 'conundrum', 'conversation', 'conversion', 'convert', 'converting', 'convince', 'coo', 'cookbook', 'cool', 'cope', 'copied', 'copy', 'copyright', 'cord', 'core', 'corporate', 'corporation', 'correct', 'corrected', 'correction', 'corta', 'cos', 'cost', 'could', 'count', 'county', 'couple', 'course', 'court', 'courtesy', 'covent', 'coverage', 'covered', 'covering', 'coz', 'crack', 'cracked', 'cracking', 'cranberry', 'cranial', 'crap', 'crash', 'craving', 'crawl', 'crazy', 'crea', 'cream', 'create', 'creation', 'creative', 'credential', 'credit', 'creen', 'creep', 'creepy', 'crew', 'crime', 'crisis', 'critical', 'crome', 'cross', 'crossed', 'crowd', 'crush', 'crushed', 'cue', 'culpa', 'culture', 'curate', 'curiosity', 'curious', 'current', 'currently', 'curse', 'curve', 'custom', 'customer', 'cut', 'cute', 'cutting', 'cyanogen', 'cyclone', 'cyst', 'da', 'dad', 'dada', 'dado', 'dag', 'daily', 'dal', 'dale', 'dam', 'damage', 'damn', 'dan', 'dance', 'dancing', 'danger', 'dank', 'dar', 'dark', 'darkness', 'das', 'data', 'date', 'daughter', 'dawn', 'day', 'days', 'de', 'dead', 'deaf', 'deal', 'dealing', 'dealt', 'dear', 'death', 'debate', 'debating', 'debt', 'debut', 'decent', 'decide', 'decision', 'declined', 'dedication', 'dedo', 'deep', 'default', 'define', 'definitely', 'degree', 'delay', 'delete', 'delicious', 'delight', 'deliver', 'dell', 'democrat', 'demonstration', 'den', 'denounce', 'density', 'dentist', 'department', 'dependent', 'deployment', 'depot', 'dernier', 'design', 'designed', 'designer', 'desire', 'desired', 'desk', 'despite', 'destination', 'detailed', 'detection', 'determine', 'dev', 'develop', 'developer', 'development', 'device', 'dewan', 'di', 'diary', 'dice', 'dich', 'dick', 'dictation', 'didnt', 'die', 'difference', 'different', 'difficile', 'difficult', 'digging', 'digital', 'digitally', 'dilation', 'dilo', 'dime', 'din', 'dine', 'dinero', 'dinner', 'dire', 'direct', 'directly', 'director', 'dis', 'disabled', 'disagree', 'disappear', 'disappoint', 'disappointed', 'disappointing', 'disappointment', 'disaster', 'disclosed', 'discount', 'discover', 'discovery', 'discuss', 'discussion', 'disguise', 'display', 'dispose', 'dissent', 'distribution', 'distrust', 'dit', 'ditch', 'dive', 'division', 'doc', 'dock', 'document', 'documentary', 'dodgy', 'doe', 'doesnt', 'dog', 'dogs', 'dollar', 'domain', 'domestic', 'domination', 'donate', 'donated', 'done', 'dont', 'door', 'doorstep', 'dope', 'dorado', 'dos', 'dose', 'doubt', 'dough', 'downgrade', 'downside', 'downtown', 'downward', 'drain', 'dream', 'drew', 'drink', 'drive', 'driver', 'driving', 'drop', 'dropping', 'dryad', 'drying', 'dude', 'due', 'duet', 'duff', 'duim', 'duke', 'duly', 'dumb', 'dummy', 'dump', 'dun', 'duo', 'duplication', 'durable', 'dusting', 'duty', 'dying', 'dynamics', 'ea', 'ear', 'early', 'earnings', 'earth', 'easier', 'easiest', 'east', 'easter', 'easy', 'eat', 'eating', 'echelon', 'echo', 'eclair', 'eclipse', 'economics', 'edge', 'edition', 'editor', 'education', 'effect', 'effects', 'efficient', 'efficiently', 'effort', 'eft', 'egomania', 'eh', 'eight', 'either', 'el', 'electric', 'electrical', 'elegance', 'elevated', 'eligible', 'elite', 'else', 'em', 'embed', 'embracing', 'emergency', 'emphasis', 'emphasize', 'empire', 'employability', 'employee', 'empowerment', 'empty', 'en', 'enable', 'encore', 'encourage', 'encouraging', 'encrypt', 'encryption', 'end', 'ending', 'endless', 'engage', 'engaged', 'engaging', 'engine', 'engineer', 'engineering', 'enhance', 'enjoy', 'enjoying', 'enlightened', 'enorm', 'enough', 'ensemble', 'entering', 'enterprise', 'entertaining', 'entire', 'entrepreneur', 'environment', 'epic', 'episode', 'equal', 'equipment', 'equivalent', 'equivoque', 'er', 'era', 'erg', 'eric', 'erika', 'error', 'es', 'escape', 'escort', 'escribe', 'especial', 'especially', 'essential', 'estado', 'estate', 'eta', 'ethical', 'eu', 'evacuation', 'evangelist', 'even', 'evening', 'event', 'ever', 'every', 'everybody', 'everyday', 'everyone', 'everything', 'everywhere', 'evidence', 'evil', 'evolution', 'ex', 'exact', 'exactly', 'exam', 'example', 'excel', 'excelente', 'excellent', 'except', 'exception', 'excerpt', 'exchange', 'excited', 'exciting', 'exclusive', 'excuse', 'executive', 'exercise', 'exhibit', 'exorcist', 'expanded', 'expect', 'expensive', 'experience', 'experiment', 'expert', 'explain', 'explaining', 'exploded', 'explorer', 'exposed', 'express', 'extend', 'extended', 'extensible', 'extent', 'extra', 'extreme', 'ey', 'eye', 'eyed', 'eyelash', 'eyelid', 'face', 'facial', 'fact', 'factory', 'faculty', 'fad', 'fade', 'fail', 'failing', 'fair', 'faith', 'fake', 'fall', 'fallen', 'falling', 'false', 'fam', 'familia', 'family', 'famous', 'fan', 'fancy', 'fantastic', 'fantasy', 'far', 'fashion', 'fast', 'faster', 'fat', 'fault', 'faulty', 'favor', 'favoring', 'favorite', 'fe', 'feat', 'feature', 'featured', 'fed', 'federal', 'feed', 'feedback', 'feeding', 'feel', 'feeling', 'fell', 'fellow', 'felt', 'female', 'fez', 'fi', 'fico', 'fiction', 'fight', 'figure', 'figured', 'file', 'film', 'fin', 'final', 'finale', 'finally', 'finance', 'financial', 'find', 'fine', 'finger', 'finish', 'finland', 'fired', 'first', 'fiscal', 'fit', 'five', 'fix', 'fixation', 'fixed', 'fixing', 'flash', 'flat', 'flattery', 'flawless', 'fleet', 'flight', 'flip', 'flirting', 'flood', 'flu', 'focus', 'fold', 'folder', 'follow', 'follower', 'following', 'font', 'foolish', 'football', 'force', 'forced', 'ford', 'forever', 'forget', 'forgetting', 'forgive', 'forgot', 'forgotten', 'form', 'format', 'forme', 'former', 'forte', 'forth', 'fortunately', 'forum', 'forward', 'fosse', 'found', 'foundation', 'founder', 'four', 'foursquare', 'fox', 'frame', 'framework', 'frank', 'frase', 'free', 'freedom', 'freeze', 'freezing', 'fresh', 'fried', 'friend', 'friendliness', 'friendship', 'fringe', 'front', 'frown', 'froze', 'frozen', 'fruit', 'frustration', 'fud', 'fuel', 'full', 'fully', 'fulminate', 'fun', 'function', 'functionality', 'funds', 'funny', 'furniture', 'future', 'futuristic', 'fuzzball', 'ga', 'gain', 'galaxy', 'galera', 'gallery', 'game', 'gaming', 'garbage', 'garden', 'garner', 'gate', 'gave', 'gay', 'gear', 'gee', 'geek', 'geld', 'gem', 'gen', 'genera', 'generate', 'generation', 'generator', 'genial', 'genius', 'gent', 'gentle', 'genuine', 'geo', 'geographic', 'german', 'gestion', 'gesture', 'get', 'getting', 'ghost', 'giant', 'gift', 'gingerbread', 'girl', 'give', 'giveaway', 'giving', 'glad', 'glass', 'glee', 'global', 'globally', 'globe', 'glorifier', 'gnu', 'go', 'god', 'goes', 'going', 'gold', 'golf', 'golpe', 'gon', 'gone', 'good', 'goods', 'goodwill', 'goof', 'goose', 'gorgeous', 'got', 'gotten', 'governance', 'government', 'governor', 'grab', 'grad', 'grandma', 'graphic', 'grass', 'gratis', 'grave', 'gray', 'great', 'greater', 'greatly', 'greedy', 'green', 'greener', 'grew', 'grey', 'grin', 'grind', 'gros', 'gross', 'group', 'groupwise', 'grown', 'growth', 'guarantee', 'guarded', 'guardian', 'gud', 'guess', 'guide', 'gun', 'guru', 'gut', 'guy', 'gym', 'ha', 'hack', 'hacked', 'hacker', 'hah', 'hail', 'hain', 'hair', 'hairline', 'hak', 'hakim', 'half', 'hall', 'hallelujah', 'halo', 'hammer', 'han', 'hand', 'handle', 'handled', 'handling', 'handy', 'hanging', 'happen', 'happening', 'happier', 'happy', 'hard', 'harder', 'hardware', 'hardy', 'harper', 'hasta', 'hat', 'hate', 'hater', 'havent', 'hay', 'head', 'headache', 'headed', 'headline', 'headquarters', 'health', 'healthy', 'hear', 'heart', 'hearts', 'heaven', 'heavy', 'heck', 'hectic', 'hell', 'hello', 'help', 'helpful', 'helping', 'heme', 'hemp', 'hero', 'het', 'hey', 'hi', 'hide', 'high', 'higher', 'highlight', 'highly', 'hilarious', 'hip', 'hire', 'history', 'hit', 'ho', 'hocker', 'hockey', 'hoe', 'hold', 'holder', 'holding', 'holiday', 'holographic', 'home', 'homeless', 'honda', 'honest', 'honey', 'honeycomb', 'hong', 'honor', 'hook', 'hooked', 'hookup', 'hope', 'hopeful', 'hopefully', 'hora', 'horizontal', 'horrible', 'horse', 'hospital', 'host', 'hoster', 'hosting', 'hot', 'hotel', 'hour', 'hourly', 'house', 'household', 'however', 'howl', 'hoy', 'hubby', 'huge', 'huh', 'hulu', 'human', 'humble', 'humor', 'humour', 'hungry', 'hurry', 'hurt', 'hurting', 'hush', 'hut', 'hybrid', 'hypo', 'hypocritical', 'iba', 'ice', 'ich', 'icon', 'id', 'idea', 'identify', 'identity', 'ie', 'ignore', 'ill', 'image', 'imagine', 'imam', 'imitation', 'immediate', 'imminent', 'immobile', 'impact', 'impatient', 'impersonation', 'implant', 'implement', 'implementation', 'importance', 'important', 'importantly', 'impossible', 'impress', 'impressive', 'improve', 'improvement', 'inanimate', 'inbuilt', 'incapable', 'incase', 'incentive', 'inch', 'include', 'included', 'incomparable', 'incompatible', 'inconvenient', 'incorrect', 'increase', 'increasing', 'incredible', 'indeed', 'index', 'indexed', 'indicator', 'individual', 'industry', 'inept', 'infamous', 'inferno', 'infinite', 'influent', 'influential', 'inform', 'information', 'infrastructure', 'infringement', 'initiative', 'injunction', 'ink', 'inner', 'innovate', 'innovation', 'input', 'insane', 'insanely', 'insert', 'insertion', 'inside', 'insider', 'insight', 'insignia', 'insist', 'insolvency', 'inspiration', 'inspire', 'inspired', 'install', 'installation', 'installer', 'instant', 'instantly', 'instead', 'institute', 'insurance', 'integrate', 'integration', 'intellectual', 'intelligence', 'intended', 'intent', 'interact', 'interaction', 'interactive', 'interconnect', 'interest', 'interested', 'interesting', 'interface', 'interference', 'interim', 'internal', 'internode', 'interrupting', 'interview', 'intriguing', 'introduce', 'introduction', 'invent', 'invention', 'inventor', 'inventory', 'investigate', 'investigating', 'investment', 'invisible', 'involved', 'io', 'irony', 'iso', 'issue', 'ist', 'it', 'item', 'iteration', 'jacket', 'jag', 'jail', 'jammer', 'jane', 'japan', 'jean', 'jet', 'jewelry', 'jihad', 'job', 'join', 'joining', 'joint', 'joke', 'jolly', 'judge', 'juger', 'juice', 'jump', 'junk', 'jure', 'justice', 'justo', 'juventude', 'kan', 'karaoke', 'karate', 'karo', 'kat', 'kayo', 'keep', 'keeping', 'keepsake', 'kelly', 'kept', 'key', 'keyboard', 'keynote', 'kick', 'kickoff', 'kill', 'killing', 'kind', 'kindergarten', 'king', 'kiss', 'kissing', 'kit', 'knee', 'knew', 'know', 'knowing', 'known', 'ko', 'kon', 'kudos', 'la', 'lab', 'lack', 'ladies', 'lag', 'lager', 'laggin', 'laid', 'lair', 'lame', 'land', 'landing', 'landscape', 'language', 'lapse', 'largo', 'las', 'laser', 'last', 'late', 'later', 'latest', 'latter', 'laugh', 'laughable', 'launch', 'law', 'lawsuit', 'lay', 'laying', 'layout', 'lazy', 'lea', 'lead', 'leader', 'leadership', 'leading', 'league', 'leak', 'lean', 'leaning', 'leap', 'learn', 'learned', 'learning', 'leasing', 'least', 'leave', 'leaves', 'leaving', 'lecture', 'led', 'lee', 'leer', 'lees', 'left', 'legacy', 'legal', 'leopard', 'less', 'lesson', 'let', 'letdown', 'letter', 'leuk', 'li', 'license', 'lie', 'lied', 'lien', 'life', 'light', 'lightly', 'like', 'likely', 'liking', 'limit', 'limited', 'limitless', 'lindo', 'line', 'lined', 'link', 'linking', 'links', 'lion', 'lis', 'list', 'listed', 'listen', 'listening', 'listing', 'lite', 'literally', 'little', 'live', 'living', 'livre', 'llama', 'lo', 'load', 'loathe', 'lobby', 'local', 'locate', 'location', 'lock', 'locked', 'loco', 'log', 'logged', 'logging', 'logic', 'login', 'loin', 'lonely', 'long', 'longer', 'longs', 'look', 'looking', 'lookout', 'loop', 'loose', 'lord', 'lose', 'losing', 'loss', 'lost', 'lot', 'lots', 'loud', 'love', 'loving', 'low', 'lower', 'loyalty', 'luck', 'lucky', 'lucrative', 'lunch', 'lure', 'lys', 'mac', 'machine', 'mack', 'macro', 'mad', 'maddening', 'made', 'madness', 'maestro', 'magazine', 'magic', 'magical', 'magically', 'mail', 'main', 'mainly', 'maintenance', 'majo', 'major', 'make', 'making', 'mal', 'mala', 'mall', 'man', 'manage', 'management', 'manager', 'mandarin', 'mane', 'manes', 'mango', 'manhole', 'mania', 'manipulate', 'manny', 'mano', 'mansion', 'manso', 'manual', 'manually', 'many', 'map', 'mar', 'march', 'marijuana', 'mark', 'market', 'marketeer', 'marketer', 'marketing', 'martin', 'mary', 'mas', 'massive', 'master', 'match', 'matching', 'mater', 'matter', 'maximize', 'may', 'maybe', 'mayor', 'mean', 'meant', 'measure', 'media', 'medical', 'medio', 'meekly', 'meet', 'meeting', 'mein', 'mellon', 'melted', 'member', 'memorial', 'memory', 'men', 'mention', 'mentor', 'menu', 'mercy', 'merge', 'merk', 'mesh', 'mess', 'message', 'messy', 'met', 'meta', 'methinks', 'method', 'mi', 'mica', 'michigan', 'middle', 'midnight', 'might', 'mightily', 'mighty', 'migrate', 'mike', 'mil', 'milestone', 'milky', 'mill', 'million', 'millions', 'mim', 'min', 'mind', 'mindfulness', 'mine', 'mines', 'minority', 'minus', 'minute', 'mir', 'mire', 'mise', 'misread', 'miss', 'missing', 'mission', 'mistry', 'mix', 'mixer', 'mo', 'mob', 'mobile', 'mode', 'model', 'modern', 'modify', 'mole', 'moment', 'mommy', 'mon', 'money', 'monitor', 'monopolistic', 'monopoly', 'monte', 'month', 'monton', 'monumental', 'mood', 'moral', 'morgen', 'morning', 'moron', 'morrow', 'morse', 'mortar', 'mostly', 'mot', 'mother', 'motorcycle', 'mouche', 'mourning', 'mouse', 'mouth', 'move', 'movement', 'movie', 'moving', 'much', 'mudar', 'mug', 'multiple', 'music', 'muss', 'must', 'mute', 'na', 'nach', 'nam', 'name', 'naming', 'nascent', 'nasty', 'nat', 'national', 'native', 'natural', 'nauseous', 'navigate', 'navigation', 'naw', 'ne', 'near', 'nearest', 'nearly', 'neat', 'neck', 'nee', 'need', 'needless', 'needs', 'negative', 'negro', 'nerve', 'nervous', 'net', 'network', 'never', 'new', 'newly', 'news', 'newspaper', 'newsstand', 'newt', 'newton', 'next', 'nexus', 'ni', 'nice', 'nick', 'nigh', 'night', 'nim', 'nirvana', 'nobody', 'nog', 'noma', 'nome', 'non', 'nonanswer', 'none', 'nonstop', 'nope', 'normal', 'nose', 'nostalgia', 'notch', 'note', 'notebook', 'noted', 'nothing', 'notification', 'notified', 'notify', 'nous', 'nova', 'novel', 'novelty', 'novena', 'nowhere', 'nu', 'nuance', 'nugget', 'number', 'numero', 'nun', 'obnoxious', 'obscure', 'obsolete', 'obvious', 'obviously', 'occupy', 'occur', 'och', 'od', 'odd', 'offer', 'offering', 'office', 'official', 'officially', 'offing', 'often', 'oh', 'old', 'older', 'om', 'omission', 'one', 'ons', 'onto', 'open', 'opening', 'operating', 'opinion', 'opportunity', 'opposite', 'optimization', 'option', 'oracle', 'orang', 'orange', 'orbital', 'order', 'ordered', 'organic', 'orientation', 'original', 'originally', 'os', 'otherwise', 'ouch', 'ouf', 'out', 'outbound', 'outdated', 'outlook', 'outside', 'ova', 'overall', 'overbearing', 'overboard', 'overcapacity', 'overhaul', 'overview', 'owl', 'owner', 'ownership', 'pa', 'paar', 'pace', 'pacific', 'pack', 'pad', 'page', 'pagina', 'pain', 'painful', 'painfully', 'painless', 'painted', 'pais', 'pal', 'palestra', 'palm', 'panama', 'pancreatic', 'panda', 'panel', 'panorama', 'panoramic', 'pants', 'pap', 'papa', 'paper', 'par', 'para', 'parado', 'paranormal', 'park', 'parker', 'parkway', 'part', 'participation', 'particularly', 'partner', 'partnership', 'party', 'pasan', 'pass', 'passe', 'passing', 'password', 'past', 'pastel', 'pastoral', 'pata', 'patent', 'pathetic', 'patiently', 'patio', 'patria', 'pattern', 'pause', 'pay', 'paying', 'payment', 'peace', 'pear', 'pee', 'peeler', 'pekan', 'pen', 'pendant', 'people', 'per', 'percent', 'perdu', 'perfect', 'perfectly', 'perfecto', 'perform', 'performance', 'perhaps', 'period', 'permission', 'perpetual', 'perry', 'person', 'persona', 'personal', 'personalia', 'personalization', 'personally', 'peter', 'petit', 'petty', 'philanthropy', 'philosopher', 'philosophy', 'phoenix', 'phone', 'photo', 'photography', 'physical', 'pi', 'pic', 'pica', 'pick', 'picked', 'picture', 'piece', 'pile', 'pin', 'pinang', 'pinball', 'pinch', 'ping', 'pink', 'pinpoint', 'pinta', 'pinto', 'piracy', 'pith', 'pitman', 'place', 'placement', 'plan', 'planet', 'planeta', 'planking', 'plant', 'plantage', 'plastics', 'plate', 'platform', 'play', 'playa', 'playback', 'player', 'playful', 'pleasant', 'please', 'pleasure', 'plebe', 'plop', 'plot', 'plugged', 'plus', 'plush', 'po', 'pocket', 'poco', 'pod', 'poh', 'point', 'pointing', 'poised', 'poke', 'poker', 'police', 'policy', 'polish', 'politely', 'political', 'poll', 'polska', 'pondering', 'pone', 'poop', 'poor', 'poorly', 'pop', 'popular', 'porr', 'portal', 'ported', 'porter', 'portion', 'pose', 'positive', 'possible', 'possibly', 'post', 'posted', 'posting', 'potential', 'pound', 'pour', 'power', 'powered', 'practical', 'practice', 'pray', 'praying', 'preaching', 'precious', 'predict', 'prefer', 'pregnant', 'premier', 'premise', 'premium', 'preorder', 'prep', 'present', 'presentation', 'press', 'pretend', 'pretty', 'preview', 'previous', 'price', 'priceless', 'prima', 'prime', 'primer', 'primero', 'prince', 'principal', 'print', 'printed', 'printer', 'printing', 'privacy', 'private', 'pro', 'probably', 'problem', 'procedural', 'proceeds', 'process', 'processor', 'procrastination', 'prod', 'produce', 'product', 'productive', 'productivity', 'prof', 'professional', 'profile', 'profit', 'profitable', 'profiting', 'profound', 'program', 'programmer', 'progress', 'progressive', 'project', 'projector', 'promise', 'promising', 'promotion', 'prompt', 'prone', 'pronto', 'proof', 'propaganda', 'proper', 'properly', 'property', 'propose', 'props', 'prospect', 'protect', 'protection', 'proven', 'provide', 'provided', 'providing', 'proving', 'proximo', 'proxy', 'pub', 'public', 'publication', 'publicly', 'puck', 'pull', 'pulse', 'pump', 'pun', 'purchase', 'pure', 'purely', 'purple', 'purpose', 'push', 'pushing', 'puss', 'put', 'python', 'qualify', 'quality', 'quanta', 'quarter', 'quarterly', 'quasi', 'quest', 'question', 'quick', 'quickly', 'quit', 'quite', 'quot', 'quote', 'racism', 'racketeering', 'radar', 'radio', 'radiology', 'rain', 'raise', 'ram', 'rambling', 'ranch', 'randomly', 'range', 'ranked', 'rant', 'rape', 'rapidly', 'rat', 'rate', 'rather', 'raw', 'ray', 'razor', 'reaching', 'reaction', 'read', 'readable', 'reader', 'reading', 'ready', 'real', 'realize', 'really', 'reason', 'reasoning', 'rebuild', 'rebuttal', 'recap', 'receipt', 'receive', 'received', 'recent', 'recently', 'recession', 'recherche', 'reckless', 'recognition', 'recommend', 'reconnaissance', 'record', 'recording', 'recover', 'recruit', 'recruiting', 'red', 'redirection', 'referral', 'reflex', 'regarding', 'regardless', 'regent', 'region', 'register', 'registered', 'registration', 'regular', 'reinstall', 'relate', 'related', 'release', 'relevance', 'relevant', 'reliable', 'relive', 'remain', 'remake', 'remember', 'remind', 'reminder', 'remote', 'removable', 'remove', 'removing', 'rename', 'render', 'renewal', 'rep', 'repair', 'repeat', 'replace', 'replacement', 'reply', 'report', 'represent', 'reps', 'request', 'require', 'rescue', 'research', 'reseller', 'resemble', 'reservation', 'reserve', 'reshape', 'reside', 'resilience', 'resolution', 'resolve', 'resource', 'respect', 'respond', 'response', 'responsive', 'rest', 'restore', 'restrict', 'restrictive', 'result', 'retail', 'retarded', 'retina', 'retire', 'retrieve', 'return', 'reunion', 'reveal', 'revealed', 'reveil', 'revenue', 'reverse', 'review', 'revolution', 'revue', 'rewind', 'rice', 'rich', 'rid', 'ridiculously', 'rie', 'right', 'rim', 'ring', 'ringing', 'rip', 'rise', 'rite', 'rival', 'river', 'road', 'roaring', 'robe', 'robot', 'rock', 'rocking', 'roi', 'role', 'roll', 'rolling', 'rookie', 'room', 'rot', 'roto', 'rough', 'round', 'roundup', 'row', 'rug', 'ruined', 'rule', 'rumor', 'run', 'running', 'russia', 'sa', 'sab', 'sabe', 'saber', 'sack', 'sad', 'sadly', 'safari', 'safe', 'safety', 'sage', 'sai', 'said', 'sail', 'sair', 'sake', 'sale', 'salesperson', 'salmonella', 'salute', 'salve', 'salvo', 'sam', 'samen', 'san', 'sandwich', 'sao', 'sap', 'sarcasm', 'sauce', 'save', 'saved', 'saving', 'saw', 'say', 'saying', 'scale', 'scam', 'schedule', 'school', 'science', 'scientist', 'scrapple', 'scream', 'screen', 'screened', 'screw', 'screwed', 'screwing', 'scribble', 'scroll', 'se', 'sea', 'seal', 'seamlessly', 'search', 'searching', 'season', 'sec', 'second', 'seconde', 'secret', 'secreto', 'section', 'secure', 'security', 'see', 'seeing', 'seek', 'seeking', 'seem', 'seemingly', 'seen', 'seg', 'seit', 'seize', 'select', 'selection', 'self', 'sell', 'selling', 'semble', 'send', 'sending', 'senior', 'sense', 'sensible', 'sensor', 'sent', 'sequence', 'ser', 'sera', 'series', 'serious', 'seriously', 'serve', 'server', 'service', 'sesame', 'session', 'set', 'setting', 'settle', 'settlement', 'setup', 'seven', 'several', 'severe', 'sex', 'sexy', 'shagged', 'shanghai', 'share', 'sheet', 'shelly', 'shift', 'ship', 'shipping', 'shoot', 'shop', 'shopping', 'shore', 'short', 'shot', 'shout', 'show', 'shower', 'showing', 'shrewd', 'shuffle', 'shut', 'shutter', 'si', 'sick', 'side', 'sie', 'sig', 'sigh', 'siglos', 'sign', 'signal', 'silently', 'silicon', 'silly', 'silver', 'similar', 'simple', 'simplicity', 'simply', 'sin', 'since', 'sincerely', 'sind', 'sing', 'singing', 'single', 'sinking', 'siris', 'sis', 'sister', 'sit', 'site', 'sith', 'sitio', 'sitting', 'situation', 'six', 'size', 'sizes', 'sizing', 'skin', 'skip', 'skittles', 'slacking', 'slash', 'slate', 'sleek', 'sleep', 'sleeping', 'sleepy', 'slew', 'slick', 'slide', 'slider', 'slightly', 'slinging', 'slip', 'slipping', 'sloppy', 'slow', 'slowly', 'slows', 'small', 'smart', 'smell', 'smile', 'smooth', 'snatched', 'sneaky', 'sneer', 'snippet', 'snippy', 'snow', 'social', 'socialize', 'society', 'soft', 'soho', 'sol', 'solar', 'sold', 'solely', 'solo', 'solution', 'solve', 'somebody', 'somehow', 'someone', 'something', 'sometime', 'sometimes', 'son', 'song', 'sonic', 'soon', 'sooner', 'sophistication', 'sorry', 'sort', 'sou', 'sought', 'soul', 'sound', 'source', 'south', 'southern', 'soy', 'space', 'spare', 'spat', 'speak', 'speaking', 'spec', 'specialist', 'specs', 'specter', 'speech', 'speed', 'spell', 'spencer', 'spend', 'spending', 'spent', 'spigot', 'spin', 'spinning', 'spiral', 'spoiled', 'spoke', 'spontaneous', 'spontaneously', 'sports', 'spotted', 'spray', 'spring', 'sprint', 'sprung', 'spy', 'squad', 'squared', 'sri', 'st', 'stable', 'stack', 'staff', 'staffed', 'stage', 'staged', 'stalking', 'stand', 'standard', 'standing', 'stap', 'star', 'stare', 'start', 'starter', 'starting', 'state', 'statement', 'station', 'stay', 'stayed', 'steal', 'step', 'sterling', 'stick', 'stickers', 'sticking', 'sticky', 'still', 'stimulate', 'stink', 'stock', 'stocks', 'stolen', 'stood', 'stop', 'storage', 'store', 'story', 'straight', 'strange', 'stranger', 'strategic', 'strategy', 'stream', 'street', 'streets', 'strengthen', 'strong', 'strongly', 'structure', 'struggling', 'stuck', 'student', 'studio', 'study', 'stuff', 'stupid', 'style', 'stylus', 'submit', 'subscribe', 'substitute', 'succeed', 'success', 'successful', 'suck', 'sucking', 'sudden', 'suddenly', 'suffering', 'suggest', 'suggesting', 'suing', 'suit', 'suite', 'sum', 'summary', 'summer', 'summit', 'sun', 'sunt', 'sup', 'super', 'superb', 'superior', 'supplier', 'supply', 'support', 'supporting', 'suppose', 'supreme', 'sur', 'sure', 'surely', 'surface', 'surfaced', 'surpassing', 'surprising', 'survey', 'survivable', 'survival', 'surviving', 'swallow', 'sware', 'swear', 'sweet', 'swim', 'swipes', 'switch', 'switched', 'switcher', 'switching', 'symbol', 'sync', 'syntax', 'system', 'ta', 'taa', 'tab', 'table', 'tablet', 'tactile', 'tag', 'tagged', 'tagger', 'take', 'taken', 'taking', 'talent', 'talk', 'talking', 'tall', 'tan', 'tango', 'tao', 'tap', 'taper', 'tapping', 'tarea', 'target', 'task', 'taste', 'taught', 'tax', 'taxi', 'te', 'teach', 'teaching', 'team', 'tear', 'teasing', 'tech', 'technical', 'technological', 'technology', 'techy', 'tele', 'telegraph', 'telephone', 'tell', 'telling', 'temp', 'tempi', 'template', 'tempo', 'tender', 'terminal', 'termine', 'termino', 'terrible', 'terror', 'test', 'tested', 'tester', 'testify', 'testing', 'text', 'th', 'tha', 'thank', 'thankful', 'thankfully', 'thanks', 'thats', 'the', 'theater', 'thee', 'theft', 'thema', 'theme', 'theoretically', 'therapy', 'therefore', 'theres', 'theyre', 'thigh', 'thing', 'think', 'thinking', 'third', 'thirsty', 'tho', 'thoo', 'thorn', 'thorough', 'though', 'thought', 'threat', 'threaten', 'three', 'threw', 'throat', 'throne', 'throw', 'thunderbird', 'thunderbolt', 'thus', 'thyself', 'ti', 'tic', 'tick', 'tie', 'tied', 'tig', 'tiger', 'tighten', 'til', 'till', 'time', 'timed', 'times', 'timing', 'tint', 'tip', 'tipped', 'tired', 'titanic', 'title', 'tod', 'today', 'together', 'toggle', 'told', 'tomorrow', 'ton', 'tone', 'tonight', 'tonite', 'took', 'tool', 'top', 'topic', 'torrent', 'tossing', 'tot', 'total', 'totally', 'touch', 'touched', 'touching', 'tough', 'tour', 'tournament', 'tout', 'towards', 'town', 'toy', 'tra', 'track', 'trade', 'traditional', 'traffic', 'tragic', 'train', 'trainer', 'training', 'traject', 'transferred', 'transform', 'transition', 'translator', 'trash', 'travel', 'treat', 'tree', 'trial', 'tribune', 'tribute', 'trick', 'tried', 'trip', 'triple', 'tripping', 'trivia', 'troca', 'trocar', 'tron', 'trouble', 'troublemaker', 'troy', 'truck', 'true', 'truly', 'try', 'trying', 'tu', 'tube', 'tune', 'tuned', 'turn', 'turned', 'turning', 'turns', 'tweet', 'tweeter', 'twit', 'twitter', 'twitterer', 'twittery', 'two', 'type', 'ugh', 'ugly', 'ultimate', 'ultimo', 'um', 'umber', 'un', 'unable', 'unauthorized', 'unbelievable', 'unblocked', 'unborn', 'uncategorized', 'unconventional', 'undecided', 'undergo', 'underlying', 'underscore', 'understand', 'undo', 'undoubtedly', 'unexpected', 'unfair', 'unfollowing', 'unfortunately', 'unhappy', 'unified', 'unique', 'universe', 'university', 'unknown', 'unladen', 'unless', 'unlike', 'unlock', 'unlocked', 'unlocking', 'unmindful', 'unproductive', 'unquality', 'unreal', 'untill', 'unveil', 'unveiled', 'unveiling', 'unwanted', 'unwrapping', 'upcoming', 'update', 'upgrade', 'uphill', 'upset', 'upstairs', 'ur', 'us', 'usable', 'usage', 'usar', 'usara', 'use', 'used', 'useful', 'useless', 'user', 'usual', 'utility', 'utter', 'utterly', 'vagina', 'vain', 'vale', 'valley', 'valuable', 'van', 'variety', 'vas', 'vast', 'vat', 'vehicle', 'vend', 'vender', 'vendor', 'vera', 'verge', 'version', 'versus', 'vertical', 'veteran', 'via', 'vibrate', 'vibrating', 'vicariously', 'vice', 'victim', 'video', 'vie', 'view', 'village', 'vincent', 'viny', 'violence', 'virginity', 'virtual', 'virus', 'visibility', 'vision', 'visit', 'visite', 'vista', 'visto', 'visual', 'vital', 'viva', 'vive', 'vodka', 'voice', 'vol', 'volume', 'vote', 'voucher', 'vulnerability', 'waar', 'wack', 'wad', 'wait', 'waiting', 'wake', 'waking', 'walk', 'wall', 'walled', 'wallet', 'wallpaper', 'wan', 'want', 'wanting', 'war', 'ware', 'warfare', 'warm', 'warning', 'warranty', 'wary', 'wash', 'washer', 'wasnt', 'waste', 'wasted', 'wasting', 'wat', 'watch', 'watchdog', 'watched', 'watching', 'water', 'wave', 'way', 'ways', 'weaken', 'wear', 'wearable', 'weather', 'web', 'week', 'weekend', 'weekly', 'weep', 'weird', 'welcome', 'well', 'welt', 'wen', 'went', 'wer', 'werent', 'west', 'weve', 'whale', 'whats', 'wheat', 'wheel', 'whenever', 'whether', 'white', 'whoa', 'whoever', 'whole', 'whoops', 'whore', 'wid', 'wide', 'wife', 'wild', 'willing', 'win', 'window', 'winner', 'winning', 'wir', 'wird', 'wired', 'wireless', 'wise', 'wisely', 'wish', 'wished', 'wishing', 'wit', 'witchcraft', 'within', 'without', 'wo', 'woke', 'woman', 'wonder', 'wonderful', 'wondering', 'wong', 'wonky', 'wont', 'wooden', 'woon', 'word', 'work', 'worked', 'working', 'works', 'workshop', 'world', 'worried', 'worry', 'worse', 'worst', 'worth', 'would', 'wouldnt', 'wounded', 'wow', 'wrestler', 'write', 'writer', 'writing', 'wrong', 'ya', 'yahoo', 'yang', 'yapping', 'yea', 'yeah', 'year', 'yearly', 'yellow', 'yelp', 'yeni', 'yeo', 'yep', 'yes', 'yesterday', 'yet', 'yo', 'you', 'youd', 'young', 'youth', 'youve', 'yr', 'yummy', 'zaibatsu', 'zapatero', 'zat', 'zero', 'zo', 'zoo', 'zoom', 'を１１月に世界で順次発売すると発表', 'ツイッターを利用して感謝の気持ちとともに約２０００円が振り込まれ続ける方法', '６５型の有機ｅｌ画面を採用']\n"
          ],
          "name": "stdout"
        }
      ]
    },
    {
      "cell_type": "code",
      "metadata": {
        "id": "grRh41mNYjSk",
        "colab_type": "code",
        "colab": {}
      },
      "source": [
        "x_train = pd.DataFrame(x_train.toarray(),columns=vt.get_feature_names())\n",
        "x_test = pd.DataFrame(x_test.toarray(),columns=vt.get_feature_names())\n",
        "rf = RandomForestClassifier()\n",
        "params = {'max_depth': [10, 20, 30, None],'max_features': ['sqrt'],\n",
        "      'min_samples_leaf': [1, 2, 4],'min_samples_split': [2, 5, 10],\n",
        "      'n_estimators': range(10,50,10)}\n",
        " \n",
        "gs_rf = GridSearchCV(estimator = rf, param_grid = params, cv = 5, n_jobs = 10, verbose = 1)"
      ],
      "execution_count": 0,
      "outputs": []
    },
    {
      "cell_type": "code",
      "metadata": {
        "id": "qzM8YKDuYxFE",
        "colab_type": "code",
        "outputId": "32e141c4-500c-4b27-ca0c-93655025255f",
        "colab": {
          "base_uri": "https://localhost:8080/",
          "height": 547
        }
      },
      "source": [
        "gs_rf.fit(x_train,y_train)"
      ],
      "execution_count": 35,
      "outputs": [
        {
          "output_type": "stream",
          "text": [
            "Fitting 5 folds for each of 144 candidates, totalling 720 fits\n"
          ],
          "name": "stdout"
        },
        {
          "output_type": "stream",
          "text": [
            "[Parallel(n_jobs=10)]: Using backend LokyBackend with 10 concurrent workers.\n",
            "/usr/local/lib/python3.6/dist-packages/joblib/externals/loky/process_executor.py:706: UserWarning: A worker stopped while some jobs were given to the executor. This can be caused by a too short worker timeout or by a memory leak.\n",
            "  \"timeout or by a memory leak.\", UserWarning\n",
            "[Parallel(n_jobs=10)]: Done  30 tasks      | elapsed:   16.4s\n",
            "[Parallel(n_jobs=10)]: Done 180 tasks      | elapsed:  1.2min\n",
            "[Parallel(n_jobs=10)]: Done 430 tasks      | elapsed:  3.9min\n",
            "[Parallel(n_jobs=10)]: Done 720 out of 720 | elapsed:  9.4min finished\n"
          ],
          "name": "stderr"
        },
        {
          "output_type": "execute_result",
          "data": {
            "text/plain": [
              "GridSearchCV(cv=5, error_score='raise-deprecating',\n",
              "             estimator=RandomForestClassifier(bootstrap=True, class_weight=None,\n",
              "                                              criterion='gini', max_depth=None,\n",
              "                                              max_features='auto',\n",
              "                                              max_leaf_nodes=None,\n",
              "                                              min_impurity_decrease=0.0,\n",
              "                                              min_impurity_split=None,\n",
              "                                              min_samples_leaf=1,\n",
              "                                              min_samples_split=2,\n",
              "                                              min_weight_fraction_leaf=0.0,\n",
              "                                              n_estimators='warn', n_jobs=None,\n",
              "                                              oob_score=False,\n",
              "                                              random_state=None, verbose=0,\n",
              "                                              warm_start=False),\n",
              "             iid='warn', n_jobs=10,\n",
              "             param_grid={'max_depth': [10, 20, 30, None],\n",
              "                         'max_features': ['sqrt'],\n",
              "                         'min_samples_leaf': [1, 2, 4],\n",
              "                         'min_samples_split': [2, 5, 10],\n",
              "                         'n_estimators': range(10, 50, 10)},\n",
              "             pre_dispatch='2*n_jobs', refit=True, return_train_score=False,\n",
              "             scoring=None, verbose=1)"
            ]
          },
          "metadata": {
            "tags": []
          },
          "execution_count": 35
        }
      ]
    },
    {
      "cell_type": "code",
      "metadata": {
        "id": "0lBXZe95YjXi",
        "colab_type": "code",
        "outputId": "81569ca1-d6f3-4dac-e80b-f931c452ce56",
        "colab": {
          "base_uri": "https://localhost:8080/",
          "height": 204
        }
      },
      "source": [
        "print(classification_report(gs_rf.predict(x_test),y_test))"
      ],
      "execution_count": 36,
      "outputs": [
        {
          "output_type": "stream",
          "text": [
            "              precision    recall  f1-score   support\n",
            "\n",
            "  irrelevant       0.93      0.67      0.78       682\n",
            "    negative       0.37      0.64      0.47        97\n",
            "     neutral       0.71      0.74      0.73       696\n",
            "    positive       0.27      0.68      0.39        59\n",
            "\n",
            "    accuracy                           0.70      1534\n",
            "   macro avg       0.57      0.68      0.59      1534\n",
            "weighted avg       0.77      0.70      0.72      1534\n",
            "\n"
          ],
          "name": "stdout"
        }
      ]
    },
    {
      "cell_type": "code",
      "metadata": {
        "id": "FBAildNBaK95",
        "colab_type": "code",
        "colab": {}
      },
      "source": [
        "params = {\n",
        "    \"objective\" : \"multiclass\",\n",
        "    'boosting_type': 'gbdt',\n",
        "    'objective': 'multiclass',\n",
        "    'num_class':4,\n",
        "    'learning_rate':0.01,\n",
        "    'max_depth': 7,\n",
        "    'num_leaves': 127,\n",
        "    'feature_fraction': 0.4,\n",
        "    'bagging_freq': 10,\n",
        "    'num_iterations':1000 ,\n",
        "    'max_bin' : 32}\n"
      ],
      "execution_count": 0,
      "outputs": []
    },
    {
      "cell_type": "code",
      "metadata": {
        "id": "ExO8-1lEaOUK",
        "colab_type": "code",
        "colab": {}
      },
      "source": [
        "le = LabelEncoder()  \n",
        "d_train = lgb.Dataset(x_train,le.fit_transform(y_train))"
      ],
      "execution_count": 0,
      "outputs": []
    },
    {
      "cell_type": "code",
      "metadata": {
        "id": "nf8XB9noaOab",
        "colab_type": "code",
        "outputId": "3d784e9b-c14d-4493-a2f3-0c6531506f80",
        "colab": {
          "base_uri": "https://localhost:8080/",
          "height": 51
        }
      },
      "source": [
        "clf = lgb.train( params,d_train, 100)"
      ],
      "execution_count": 42,
      "outputs": [
        {
          "output_type": "stream",
          "text": [
            "/usr/local/lib/python3.6/dist-packages/lightgbm/engine.py:118: UserWarning: Found `num_iterations` in params. Will use it instead of argument\n",
            "  warnings.warn(\"Found `{}` in params. Will use it instead of argument\".format(alias))\n"
          ],
          "name": "stderr"
        }
      ]
    },
    {
      "cell_type": "code",
      "metadata": {
        "id": "LoSaq-e5aVeI",
        "colab_type": "code",
        "colab": {
          "base_uri": "https://localhost:8080/",
          "height": 34
        },
        "outputId": "c4199af5-69f6-4d22-bfa6-70db2d5e4ec8"
      },
      "source": [
        "preds = clf.predict(x_test)\n",
        "best_preds= [np.argmax(line) for line in preds]\n",
        "np.bincount((le.fit_transform(y_train)))"
      ],
      "execution_count": 46,
      "outputs": [
        {
          "output_type": "execute_result",
          "data": {
            "text/plain": [
              "array([1198,  403, 1607,  371])"
            ]
          },
          "metadata": {
            "tags": []
          },
          "execution_count": 46
        }
      ]
    },
    {
      "cell_type": "code",
      "metadata": {
        "id": "SOrh_5ClaZRY",
        "colab_type": "code",
        "outputId": "4eb1129e-de9f-4a37-83ed-e3dc10b78d63",
        "colab": {
          "base_uri": "https://localhost:8080/",
          "height": 204
        }
      },
      "source": [
        "print(classification_report(le.inverse_transform(best_preds),y_test))"
      ],
      "execution_count": 47,
      "outputs": [
        {
          "output_type": "stream",
          "text": [
            "              precision    recall  f1-score   support\n",
            "\n",
            "  irrelevant       0.52      0.95      0.67       265\n",
            "    negative       0.17      0.52      0.26        56\n",
            "     neutral       0.94      0.58      0.72      1173\n",
            "    positive       0.13      0.47      0.20        40\n",
            "\n",
            "    accuracy                           0.64      1534\n",
            "   macro avg       0.44      0.63      0.46      1534\n",
            "weighted avg       0.82      0.64      0.68      1534\n",
            "\n"
          ],
          "name": "stdout"
        }
      ]
    },
    {
      "cell_type": "code",
      "metadata": {
        "id": "csBBQmCialaz",
        "colab_type": "code",
        "outputId": "4100cdc0-700a-422c-a319-8d1852a9cf7c",
        "colab": {
          "base_uri": "https://localhost:8080/",
          "height": 34
        }
      },
      "source": [
        "np.bincount((best_preds))"
      ],
      "execution_count": 48,
      "outputs": [
        {
          "output_type": "execute_result",
          "data": {
            "text/plain": [
              "array([ 265,   56, 1173,   40])"
            ]
          },
          "metadata": {
            "tags": []
          },
          "execution_count": 48
        }
      ]
    },
    {
      "cell_type": "code",
      "metadata": {
        "id": "twjuSrCTalhp",
        "colab_type": "code",
        "outputId": "97d008c5-603b-4cdd-ed95-c6fa1c6f10d6",
        "colab": {
          "base_uri": "https://localhost:8080/",
          "height": 204
        }
      },
      "source": [
        "preds = clf.predict(x_train)\n",
        "best_preds_train= [np.argmax(line) for line in preds]\n",
        "print(classification_report(le.inverse_transform(best_preds_train),y_train))"
      ],
      "execution_count": 49,
      "outputs": [
        {
          "output_type": "stream",
          "text": [
            "              precision    recall  f1-score   support\n",
            "\n",
            "  irrelevant       0.51      0.98      0.67       628\n",
            "    negative       0.28      0.67      0.40       168\n",
            "     neutral       0.96      0.57      0.72      2696\n",
            "    positive       0.18      0.76      0.29        87\n",
            "\n",
            "    accuracy                           0.65      3579\n",
            "   macro avg       0.48      0.75      0.52      3579\n",
            "weighted avg       0.83      0.65      0.68      3579\n",
            "\n"
          ],
          "name": "stdout"
        }
      ]
    },
    {
      "cell_type": "code",
      "metadata": {
        "id": "7kONC13rauYu",
        "colab_type": "code",
        "outputId": "6ed05a36-6b63-4316-d1fc-d566f60061bb",
        "colab": {
          "base_uri": "https://localhost:8080/",
          "height": 867
        }
      },
      "source": [
        "preds = clf.predict(x_train)\n",
        "best_preds_train= [np.argmax(line) for line in preds]\n",
        "print(\"Default Threshold for lgbm : \\n\",classification_report(le.inverse_transform(best_preds_train),y_train))\n",
        "def thresh_1(array):\n",
        "  a = []\n",
        "  for i in range(len(array)):\n",
        "    if max(array[i])>0.6:\n",
        "      a.append(np.argmax(array[i]))\n",
        "    else:\n",
        "      a.append(2)\n",
        "  return a\n",
        "print(\"\\n 0.6 Threshold for lgbm : \\n\",classification_report(le.inverse_transform(thresh_1(preds)),y_train))\n",
        "      \n",
        "pred_rf = gs_rf.predict_proba(x_test)\n",
        "print(\"Default Threshold for rf : \\n\",(classification_report(gs_rf.predict(x_test),y_test)))\n",
        "print(\"\\n 0.6 threshold for rf : \\n\",classification_report(le.inverse_transform(thresh_1(pred_rf)),y_test) )"
      ],
      "execution_count": 50,
      "outputs": [
        {
          "output_type": "stream",
          "text": [
            "Default Threshold for lgbm : \n",
            "               precision    recall  f1-score   support\n",
            "\n",
            "  irrelevant       0.51      0.98      0.67       628\n",
            "    negative       0.28      0.67      0.40       168\n",
            "     neutral       0.96      0.57      0.72      2696\n",
            "    positive       0.18      0.76      0.29        87\n",
            "\n",
            "    accuracy                           0.65      3579\n",
            "   macro avg       0.48      0.75      0.52      3579\n",
            "weighted avg       0.83      0.65      0.68      3579\n",
            "\n",
            "\n",
            " 0.6 Threshold for lgbm : \n",
            "               precision    recall  f1-score   support\n",
            "\n",
            "  irrelevant       0.48      0.99      0.65       583\n",
            "    negative       0.07      0.93      0.13        30\n",
            "     neutral       0.99      0.54      0.70      2948\n",
            "    positive       0.05      0.94      0.09        18\n",
            "\n",
            "    accuracy                           0.62      3579\n",
            "   macro avg       0.40      0.85      0.39      3579\n",
            "weighted avg       0.90      0.62      0.68      3579\n",
            "\n",
            "Default Threshold for rf : \n",
            "               precision    recall  f1-score   support\n",
            "\n",
            "  irrelevant       0.93      0.67      0.78       682\n",
            "    negative       0.37      0.64      0.47        97\n",
            "     neutral       0.71      0.74      0.73       696\n",
            "    positive       0.27      0.68      0.39        59\n",
            "\n",
            "    accuracy                           0.70      1534\n",
            "   macro avg       0.57      0.68      0.59      1534\n",
            "weighted avg       0.77      0.70      0.72      1534\n",
            "\n",
            "\n",
            " 0.6 threshold for rf : \n",
            "               precision    recall  f1-score   support\n",
            "\n",
            "  irrelevant       0.79      0.80      0.80       488\n",
            "    negative       0.17      0.93      0.28        30\n",
            "     neutral       0.88      0.64      0.74       998\n",
            "    positive       0.09      0.78      0.17        18\n",
            "\n",
            "    accuracy                           0.70      1534\n",
            "   macro avg       0.48      0.79      0.50      1534\n",
            "weighted avg       0.83      0.70      0.74      1534\n",
            "\n"
          ],
          "name": "stdout"
        }
      ]
    },
    {
      "cell_type": "code",
      "metadata": {
        "id": "nPnrhRGvautJ",
        "colab_type": "code",
        "outputId": "ec7ff333-566b-4262-8d09-54c07438e314",
        "colab": {
          "base_uri": "https://localhost:8080/",
          "height": 867
        }
      },
      "source": [
        "preds = clf.predict(x_train)\n",
        "best_preds_train= [np.argmax(line) for line in preds]\n",
        "print(\"Default Threshold for lgbm : \\n\",classification_report(le.inverse_transform(best_preds_train),y_train))\n",
        "def thresh_2(array):\n",
        "  a = []\n",
        "  for i in range(len(array)):\n",
        "    if max(array[i])>0.7:\n",
        "      a.append(np.argmax(array[i]))\n",
        "    else:\n",
        "      a.append(2)\n",
        "  return a\n",
        "print(\"\\n 0.7 Threshold for lgbm : \\n\",classification_report(le.inverse_transform(thresh_2(preds)),y_train))\n",
        "\n",
        "pred_rf = gs_rf.predict_proba(x_test)\n",
        "print(\"Default Threshold for rf : \\n\",(classification_report(gs_rf.predict(x_test),y_test)))\n",
        "print(\"\\n 0.6 threshold for rf : \\n\",classification_report(le.inverse_transform(thresh_2(pred_rf)),y_test) )"
      ],
      "execution_count": 51,
      "outputs": [
        {
          "output_type": "stream",
          "text": [
            "Default Threshold for lgbm : \n",
            "               precision    recall  f1-score   support\n",
            "\n",
            "  irrelevant       0.51      0.98      0.67       628\n",
            "    negative       0.28      0.67      0.40       168\n",
            "     neutral       0.96      0.57      0.72      2696\n",
            "    positive       0.18      0.76      0.29        87\n",
            "\n",
            "    accuracy                           0.65      3579\n",
            "   macro avg       0.48      0.75      0.52      3579\n",
            "weighted avg       0.83      0.65      0.68      3579\n",
            "\n",
            "\n",
            " 0.7 Threshold for lgbm : \n",
            "               precision    recall  f1-score   support\n",
            "\n",
            "  irrelevant       0.47      0.99      0.64       573\n",
            "    negative       0.03      0.93      0.06        14\n",
            "     neutral       1.00      0.54      0.70      2985\n",
            "    positive       0.02      1.00      0.04         7\n",
            "\n",
            "    accuracy                           0.61      3579\n",
            "   macro avg       0.38      0.86      0.36      3579\n",
            "weighted avg       0.91      0.61      0.68      3579\n",
            "\n",
            "Default Threshold for rf : \n",
            "               precision    recall  f1-score   support\n",
            "\n",
            "  irrelevant       0.93      0.67      0.78       682\n",
            "    negative       0.37      0.64      0.47        97\n",
            "     neutral       0.71      0.74      0.73       696\n",
            "    positive       0.27      0.68      0.39        59\n",
            "\n",
            "    accuracy                           0.70      1534\n",
            "   macro avg       0.57      0.68      0.59      1534\n",
            "weighted avg       0.77      0.70      0.72      1534\n",
            "\n",
            "\n",
            " 0.6 threshold for rf : \n",
            "               precision    recall  f1-score   support\n",
            "\n",
            "  irrelevant       0.74      0.84      0.78       432\n",
            "    negative       0.11      0.90      0.19        20\n",
            "     neutral       0.91      0.62      0.73      1070\n",
            "    positive       0.05      0.67      0.10        12\n",
            "\n",
            "    accuracy                           0.68      1534\n",
            "   macro avg       0.45      0.76      0.45      1534\n",
            "weighted avg       0.84      0.68      0.74      1534\n",
            "\n"
          ],
          "name": "stdout"
        }
      ]
    },
    {
      "cell_type": "code",
      "metadata": {
        "id": "mlCmacnzbJhh",
        "colab_type": "code",
        "outputId": "85a874d9-b428-4241-af0d-0bbe6dc5d819",
        "colab": {
          "base_uri": "https://localhost:8080/",
          "height": 867
        }
      },
      "source": [
        "preds = clf.predict(x_train)\n",
        "best_preds_train= [np.argmax(line) for line in preds]\n",
        "print(\"Default Threshold for lgbm : \\n\",classification_report(le.inverse_transform(best_preds_train),y_train))\n",
        "def thresh_3(array):\n",
        "  a = []\n",
        "  for i in range(len(array)):\n",
        "    if max(array[i])>0.8:\n",
        "      a.append(np.argmax(array[i]))\n",
        "    else:\n",
        "      a.append(2)\n",
        "  return a\n",
        "print(\"\\n 0.8 Threshold for lgbm : \\n\",classification_report(le.inverse_transform(thresh_3(preds)),y_train))\n",
        "      \n",
        "pred_rf = gs_rf.predict_proba(x_test)\n",
        "print(\"Default Threshold for rf : \\n\",(classification_report(gs_rf.predict(x_test),y_test)))\n",
        "print(\"\\n 0.6 threshold for rf : \\n\",classification_report(le.inverse_transform(thresh_3(pred_rf)),y_test) )"
      ],
      "execution_count": 52,
      "outputs": [
        {
          "output_type": "stream",
          "text": [
            "Default Threshold for lgbm : \n",
            "               precision    recall  f1-score   support\n",
            "\n",
            "  irrelevant       0.51      0.98      0.67       628\n",
            "    negative       0.28      0.67      0.40       168\n",
            "     neutral       0.96      0.57      0.72      2696\n",
            "    positive       0.18      0.76      0.29        87\n",
            "\n",
            "    accuracy                           0.65      3579\n",
            "   macro avg       0.48      0.75      0.52      3579\n",
            "weighted avg       0.83      0.65      0.68      3579\n",
            "\n",
            "\n",
            " 0.8 Threshold for lgbm : \n",
            "               precision    recall  f1-score   support\n",
            "\n",
            "  irrelevant       0.44      0.99      0.61       534\n",
            "    negative       0.01      1.00      0.02         5\n",
            "     neutral       1.00      0.53      0.69      3038\n",
            "    positive       0.01      1.00      0.01         2\n",
            "\n",
            "    accuracy                           0.60      3579\n",
            "   macro avg       0.36      0.88      0.33      3579\n",
            "weighted avg       0.91      0.60      0.68      3579\n",
            "\n",
            "Default Threshold for rf : \n",
            "               precision    recall  f1-score   support\n",
            "\n",
            "  irrelevant       0.93      0.67      0.78       682\n",
            "    negative       0.37      0.64      0.47        97\n",
            "     neutral       0.71      0.74      0.73       696\n",
            "    positive       0.27      0.68      0.39        59\n",
            "\n",
            "    accuracy                           0.70      1534\n",
            "   macro avg       0.57      0.68      0.59      1534\n",
            "weighted avg       0.77      0.70      0.72      1534\n",
            "\n",
            "\n",
            " 0.6 threshold for rf : \n",
            "               precision    recall  f1-score   support\n",
            "\n",
            "  irrelevant       0.60      0.96      0.74       304\n",
            "    negative       0.04      1.00      0.08         7\n",
            "     neutral       0.98      0.59      0.73      1217\n",
            "    positive       0.03      0.83      0.06         6\n",
            "\n",
            "    accuracy                           0.66      1534\n",
            "   macro avg       0.41      0.85      0.40      1534\n",
            "weighted avg       0.90      0.66      0.73      1534\n",
            "\n"
          ],
          "name": "stdout"
        }
      ]
    },
    {
      "cell_type": "code",
      "metadata": {
        "id": "Xst_g1C0a05C",
        "colab_type": "code",
        "colab": {}
      },
      "source": [
        ""
      ],
      "execution_count": 0,
      "outputs": []
    }
  ]
}