{
  "nbformat": 4,
  "nbformat_minor": 0,
  "metadata": {
    "colab": {
      "name": "FunctionTransfromer_11Feb.ipynb",
      "provenance": [],
      "authorship_tag": "ABX9TyMViDjYMXYJOUYu8p1eFhPE",
      "include_colab_link": true
    },
    "kernelspec": {
      "name": "python3",
      "display_name": "Python 3"
    }
  },
  "cells": [
    {
      "cell_type": "markdown",
      "metadata": {
        "id": "view-in-github",
        "colab_type": "text"
      },
      "source": [
        "<a href=\"https://colab.research.google.com/github/rjroxx/NLP_Coursework/blob/master/FunctionTransfromer_11Feb.ipynb\" target=\"_parent\"><img src=\"https://colab.research.google.com/assets/colab-badge.svg\" alt=\"Open In Colab\"/></a>"
      ]
    },
    {
      "cell_type": "code",
      "metadata": {
        "id": "Nhbx7WotD3CK",
        "colab_type": "code",
        "colab": {}
      },
      "source": [
        "import numpy as np\n",
        "import pandas as pd\n",
        "from sklearn.preprocessing import FunctionTransformer\n",
        "from sklearn.preprocessing import MinMaxScaler\n",
        "from sklearn.base import BaseEstimator, TransformerMixin\n",
        "from sklearn.pipeline import Pipeline"
      ],
      "execution_count": 0,
      "outputs": []
    },
    {
      "cell_type": "code",
      "metadata": {
        "id": "7yc647WNFZYc",
        "colab_type": "code",
        "colab": {}
      },
      "source": [
        "trns = FunctionTransformer(np.log1p)"
      ],
      "execution_count": 0,
      "outputs": []
    },
    {
      "cell_type": "code",
      "metadata": {
        "id": "S89yKnxMFZbP",
        "colab_type": "code",
        "outputId": "a14d45c8-02ff-45db-e0da-fc1daddf42fa",
        "colab": {
          "base_uri": "https://localhost:8080/",
          "height": 51
        }
      },
      "source": [
        "X = np.array([[0, 1], [2, 3]])\n",
        "trns.transform(X)"
      ],
      "execution_count": 0,
      "outputs": [
        {
          "output_type": "execute_result",
          "data": {
            "text/plain": [
              "array([[0.        , 0.69314718],\n",
              "       [1.09861229, 1.38629436]])"
            ]
          },
          "metadata": {
            "tags": []
          },
          "execution_count": 13
        }
      ]
    },
    {
      "cell_type": "code",
      "metadata": {
        "id": "0wAiDVfVFZpw",
        "colab_type": "code",
        "colab": {}
      },
      "source": [
        "scaler = MinMaxScaler()\n",
        "sc = scaler.fit_transform(X)"
      ],
      "execution_count": 0,
      "outputs": []
    },
    {
      "cell_type": "code",
      "metadata": {
        "id": "M3D23A-GFZjt",
        "colab_type": "code",
        "outputId": "8e28ea4a-8c65-4a3c-bc69-7b4994cb5223",
        "colab": {
          "base_uri": "https://localhost:8080/",
          "height": 51
        }
      },
      "source": [
        "print(scaler.inverse_transform(sc))"
      ],
      "execution_count": 0,
      "outputs": [
        {
          "output_type": "stream",
          "text": [
            "[[0. 1.]\n",
            " [2. 3.]]\n"
          ],
          "name": "stdout"
        }
      ]
    },
    {
      "cell_type": "code",
      "metadata": {
        "id": "Gd2IteSiFZhe",
        "colab_type": "code",
        "colab": {}
      },
      "source": [
        "class PostitionalSelector(BaseEstimator, TransformerMixin):\n",
        "  def __init_(self,positions):\n",
        "    self.positions = positions\n",
        "\n",
        "  def fit(self,X,y=None): #logic to exlude Y column if entire dataframe is passed\n",
        "    return\n",
        "\n",
        "  def transform(self,X):\n",
        "    return np.array(X)[:self.positions]\n",
        "\n",
        "  def inverse_transform(X): #have to return df\n",
        "    return X"
      ],
      "execution_count": 0,
      "outputs": []
    },
    {
      "cell_type": "code",
      "metadata": {
        "id": "lrmGhVVHFZfx",
        "colab_type": "code",
        "colab": {}
      },
      "source": [
        "class Min_Max_Scaler(BaseEstimator, TransformerMixin):\n",
        "  def __init_(self):\n",
        "    def fit(self,X,y=None): #logic to exlude Y column if entire dataframe is passed\n",
        "      return\n",
        "    \n",
        "    def transform(self,X):\n",
        "      return np.array(X)[:self.positions]\n"
      ],
      "execution_count": 0,
      "outputs": []
    }
  ]
}