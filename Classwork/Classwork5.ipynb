{
  "nbformat": 4,
  "nbformat_minor": 0,
  "metadata": {
    "colab": {
      "name": "Classwork5.ipynb",
      "provenance": [],
      "include_colab_link": true
    },
    "kernelspec": {
      "name": "python3",
      "display_name": "Python 3"
    }
  },
  "cells": [
    {
      "cell_type": "markdown",
      "metadata": {
        "id": "view-in-github",
        "colab_type": "text"
      },
      "source": [
        "<a href=\"https://colab.research.google.com/github/rjroxx/NLP_Coursework/blob/master/Classwork5.ipynb\" target=\"_parent\"><img src=\"https://colab.research.google.com/assets/colab-badge.svg\" alt=\"Open In Colab\"/></a>"
      ]
    },
    {
      "cell_type": "code",
      "metadata": {
        "id": "zSK5v54ICQ-X",
        "colab_type": "code",
        "colab": {}
      },
      "source": [
        "import pandas as pd\n",
        "import numpy as np\n",
        "from gensim.models import Word2Vec\n",
        "from nltk.corpus import stopwords\n",
        "from itertools import combinations\n",
        "import string\n",
        "import nltk\n",
        "from nltk.tokenize import word_tokenize"
      ],
      "execution_count": 0,
      "outputs": []
    },
    {
      "cell_type": "code",
      "metadata": {
        "id": "H_l8m48j_ubY",
        "colab_type": "code",
        "colab": {
          "base_uri": "https://localhost:8080/",
          "height": 85
        },
        "outputId": "d39d9226-412e-4a50-b673-aad51ba0833b"
      },
      "source": [
        "nltk.download('punkt')\n",
        "nltk.download('stopwords')\n",
        "sw = set(stopwords.words('english')) "
      ],
      "execution_count": 20,
      "outputs": [
        {
          "output_type": "stream",
          "text": [
            "[nltk_data] Downloading package punkt to /root/nltk_data...\n",
            "[nltk_data]   Package punkt is already up-to-date!\n",
            "[nltk_data] Downloading package stopwords to /root/nltk_data...\n",
            "[nltk_data]   Package stopwords is already up-to-date!\n"
          ],
          "name": "stdout"
        }
      ]
    },
    {
      "cell_type": "code",
      "metadata": {
        "id": "Cjz0wOVBkvDa",
        "colab_type": "code",
        "colab": {}
      },
      "source": [
        "url=\"https://raw.githubusercontent.com/zfz/twitter_corpus/master/full-corpus.csv\"\n",
        "df=pd.read_csv(url)"
      ],
      "execution_count": 0,
      "outputs": []
    },
    {
      "cell_type": "code",
      "metadata": {
        "id": "2KmDb_ZalFFd",
        "colab_type": "code",
        "colab": {
          "base_uri": "https://localhost:8080/",
          "height": 204
        },
        "outputId": "fba4580e-bca3-4188-bd67-0354186b9e2d"
      },
      "source": [
        "df.head()"
      ],
      "execution_count": 22,
      "outputs": [
        {
          "output_type": "execute_result",
          "data": {
            "text/html": [
              "<div>\n",
              "<style scoped>\n",
              "    .dataframe tbody tr th:only-of-type {\n",
              "        vertical-align: middle;\n",
              "    }\n",
              "\n",
              "    .dataframe tbody tr th {\n",
              "        vertical-align: top;\n",
              "    }\n",
              "\n",
              "    .dataframe thead th {\n",
              "        text-align: right;\n",
              "    }\n",
              "</style>\n",
              "<table border=\"1\" class=\"dataframe\">\n",
              "  <thead>\n",
              "    <tr style=\"text-align: right;\">\n",
              "      <th></th>\n",
              "      <th>Topic</th>\n",
              "      <th>Sentiment</th>\n",
              "      <th>TweetId</th>\n",
              "      <th>TweetDate</th>\n",
              "      <th>TweetText</th>\n",
              "    </tr>\n",
              "  </thead>\n",
              "  <tbody>\n",
              "    <tr>\n",
              "      <th>0</th>\n",
              "      <td>apple</td>\n",
              "      <td>positive</td>\n",
              "      <td>126415614616154112</td>\n",
              "      <td>Tue Oct 18 21:53:25 +0000 2011</td>\n",
              "      <td>Now all @Apple has to do is get swype on the i...</td>\n",
              "    </tr>\n",
              "    <tr>\n",
              "      <th>1</th>\n",
              "      <td>apple</td>\n",
              "      <td>positive</td>\n",
              "      <td>126404574230740992</td>\n",
              "      <td>Tue Oct 18 21:09:33 +0000 2011</td>\n",
              "      <td>@Apple will be adding more carrier support to ...</td>\n",
              "    </tr>\n",
              "    <tr>\n",
              "      <th>2</th>\n",
              "      <td>apple</td>\n",
              "      <td>positive</td>\n",
              "      <td>126402758403305474</td>\n",
              "      <td>Tue Oct 18 21:02:20 +0000 2011</td>\n",
              "      <td>Hilarious @youtube video - guy does a duet wit...</td>\n",
              "    </tr>\n",
              "    <tr>\n",
              "      <th>3</th>\n",
              "      <td>apple</td>\n",
              "      <td>positive</td>\n",
              "      <td>126397179614068736</td>\n",
              "      <td>Tue Oct 18 20:40:10 +0000 2011</td>\n",
              "      <td>@RIM you made it too easy for me to switch to ...</td>\n",
              "    </tr>\n",
              "    <tr>\n",
              "      <th>4</th>\n",
              "      <td>apple</td>\n",
              "      <td>positive</td>\n",
              "      <td>126395626979196928</td>\n",
              "      <td>Tue Oct 18 20:34:00 +0000 2011</td>\n",
              "      <td>I just realized that the reason I got into twi...</td>\n",
              "    </tr>\n",
              "  </tbody>\n",
              "</table>\n",
              "</div>"
            ],
            "text/plain": [
              "   Topic  ...                                          TweetText\n",
              "0  apple  ...  Now all @Apple has to do is get swype on the i...\n",
              "1  apple  ...  @Apple will be adding more carrier support to ...\n",
              "2  apple  ...  Hilarious @youtube video - guy does a duet wit...\n",
              "3  apple  ...  @RIM you made it too easy for me to switch to ...\n",
              "4  apple  ...  I just realized that the reason I got into twi...\n",
              "\n",
              "[5 rows x 5 columns]"
            ]
          },
          "metadata": {
            "tags": []
          },
          "execution_count": 22
        }
      ]
    },
    {
      "cell_type": "code",
      "metadata": {
        "id": "htirDK6dsW-a",
        "colab_type": "code",
        "colab": {}
      },
      "source": [
        "def custom_func(text): \n",
        "  text=text.translate(str.maketrans('','', string.punctuation))\n",
        "  wt=word_tokenize(text)\n",
        "  ls=[]\n",
        "  for w in wt: \n",
        "      if w not in sw: \n",
        "          ls.append(w) \n",
        "  return ls"
      ],
      "execution_count": 0,
      "outputs": []
    },
    {
      "cell_type": "code",
      "metadata": {
        "id": "769KgMnSAE5h",
        "colab_type": "code",
        "colab": {}
      },
      "source": [
        "df['tokenText'] = df.TweetText.apply(custom_func)"
      ],
      "execution_count": 0,
      "outputs": []
    },
    {
      "cell_type": "code",
      "metadata": {
        "id": "-KshI_avk8W8",
        "colab_type": "code",
        "colab": {
          "base_uri": "https://localhost:8080/",
          "height": 34
        },
        "outputId": "ea850506-ede0-4601-a2e3-c5cb519fe1b5"
      },
      "source": [
        "df['tokenText'][0]"
      ],
      "execution_count": 25,
      "outputs": [
        {
          "output_type": "execute_result",
          "data": {
            "text/plain": [
              "['Now', 'Apple', 'get', 'swype', 'iphone', 'crack', 'Iphone']"
            ]
          },
          "metadata": {
            "tags": []
          },
          "execution_count": 25
        }
      ]
    },
    {
      "cell_type": "code",
      "metadata": {
        "id": "vhKisDmPbiOE",
        "colab_type": "code",
        "colab": {}
      },
      "source": [
        "tt=[]\n",
        "for x in df['tokenText']:\n",
        "  for y in x:\n",
        "    tt.append(y)"
      ],
      "execution_count": 0,
      "outputs": []
    },
    {
      "cell_type": "code",
      "metadata": {
        "id": "dDvKD3JHb55l",
        "colab_type": "code",
        "colab": {}
      },
      "source": [
        "tot=list(set(tt))"
      ],
      "execution_count": 0,
      "outputs": []
    },
    {
      "cell_type": "code",
      "metadata": {
        "id": "kInT7ZiiVuvZ",
        "colab_type": "code",
        "colab": {}
      },
      "source": [
        "bog=[]\n",
        "for i in tot:\n",
        "  bog.append([i])"
      ],
      "execution_count": 0,
      "outputs": []
    },
    {
      "cell_type": "code",
      "metadata": {
        "id": "TNLwdvl_HMmQ",
        "colab_type": "code",
        "colab": {}
      },
      "source": [
        "m = Word2Vec(list(bog), min_count=1,size= 50,workers=3, window =3, sg = 1)"
      ],
      "execution_count": 0,
      "outputs": []
    },
    {
      "cell_type": "code",
      "metadata": {
        "id": "wPzmUGelHSmd",
        "colab_type": "code",
        "colab": {
          "base_uri": "https://localhost:8080/",
          "height": 1000
        },
        "outputId": "a2207d42-ac4e-4e52-81b0-ca3d1a301e10"
      },
      "source": [
        "for i in bog[0:20]:\n",
        "  for j in bog[0:20]:\n",
        "    if j>i:\n",
        "      print(i[0],\"&\",j[0],' : ',m.similarity(i[0],j[0]))\n",
        "    else:\n",
        "      continue"
      ],
      "execution_count": 50,
      "outputs": [
        {
          "output_type": "stream",
          "text": [
            "chillin & استخدام  :  0.12446307\n",
            "chillin & tweetshelps  :  0.07218678\n",
            "chillin & debloquer  :  0.19745922\n",
            "chillin & grg  :  -0.1626511\n",
            "chillin & dou  :  0.0985088\n",
            "chillin & httptcotzigD99b  :  -0.09052991\n",
            "chillin & مثل  :  -0.08457122\n",
            "chillin & sleeep  :  0.2360973\n",
            "chillin & sync  :  -0.014328588\n",
            "chillin & …and  :  0.06933095\n",
            "chillin & content  :  -0.06241119\n",
            "chillin & httptcoNkPjGP3W  :  0.0792575\n",
            "chillin & httptco  :  -0.04296282\n",
            "Pearson & chillin  :  0.09748342\n",
            "Pearson & استخدام  :  -0.12251859\n",
            "Pearson & tweetshelps  :  0.07208213\n",
            "Pearson & debloquer  :  0.01457779\n",
            "Pearson & grg  :  0.1020845\n",
            "Pearson & dou  :  -0.14747445\n",
            "Pearson & RESPECT  :  0.10485752\n",
            "Pearson & httptcotzigD99b  :  -0.009465083\n",
            "Pearson & مثل  :  -0.16175939\n",
            "Pearson & sleeep  :  0.16561887\n",
            "Pearson & sync  :  -0.022017762\n",
            "Pearson & …and  :  -0.22283694\n",
            "Pearson & content  :  -0.26159185\n",
            "Pearson & httptcoNkPjGP3W  :  -0.044441607\n",
            "Pearson & httptco  :  0.10919481\n",
            "Pearson & blowed  :  -0.17240953\n",
            "استخدام & مثل  :  0.037175193\n",
            "استخدام & …and  :  -0.13412616\n",
            "tweetshelps & استخدام  :  0.085605174\n",
            "tweetshelps & مثل  :  0.06811179\n",
            "tweetshelps & …and  :  -0.06155372\n",
            "14th & chillin  :  0.059134837\n",
            "14th & Pearson  :  0.20812541\n",
            "14th & استخدام  :  -0.06298449\n",
            "14th & tweetshelps  :  -0.1808292\n",
            "14th & Buzz  :  -0.24456427\n",
            "14th & debloquer  :  -0.057753667\n",
            "14th & grg  :  -0.2367185\n",
            "14th & dou  :  -0.24727625\n",
            "14th & RESPECT  :  -0.055366214\n",
            "14th & httptcotzigD99b  :  -0.15470421\n",
            "14th & 7ki3arabi  :  0.1799983\n",
            "14th & مثل  :  -0.2162054\n",
            "14th & sleeep  :  -0.006636603\n",
            "14th & sync  :  -0.066975124\n",
            "14th & …and  :  -0.1072229\n",
            "14th & content  :  0.05658944\n",
            "14th & httptcoNkPjGP3W  :  -0.082269445\n",
            "14th & httptco  :  0.0973861\n",
            "14th & blowed  :  0.11638759\n",
            "Buzz & chillin  :  -0.25985426\n",
            "Buzz & Pearson  :  -0.11166449\n",
            "Buzz & استخدام  :  -0.010712812\n",
            "Buzz & tweetshelps  :  0.042042114\n",
            "Buzz & debloquer  :  -0.022762375\n",
            "Buzz & grg  :  0.12151808\n",
            "Buzz & dou  :  0.058922853\n",
            "Buzz & RESPECT  :  0.028060108\n",
            "Buzz & httptcotzigD99b  :  -0.13888438\n",
            "Buzz & مثل  :  0.107780226\n",
            "Buzz & sleeep  :  -0.36056265\n",
            "Buzz & sync  :  0.15930526\n",
            "Buzz & …and  :  0.16247436\n",
            "Buzz & content  :  -0.069281116\n",
            "Buzz & httptcoNkPjGP3W  :  -0.055723317\n",
            "Buzz & httptco  :  -0.009499498\n",
            "Buzz & blowed  :  -0.003745271\n",
            "debloquer & استخدام  :  -0.0041915025\n",
            "debloquer & tweetshelps  :  0.057561457\n",
            "debloquer & grg  :  0.047257222\n",
            "debloquer & dou  :  -0.08388906\n",
            "debloquer & httptcotzigD99b  :  -0.0968608\n",
            "debloquer & مثل  :  0.18732877\n",
            "debloquer & sleeep  :  -0.028596418\n",
            "debloquer & sync  :  0.19165741\n",
            "debloquer & …and  :  0.090557486\n",
            "debloquer & httptcoNkPjGP3W  :  -0.02198642\n",
            "debloquer & httptco  :  0.027370844\n",
            "grg & استخدام  :  -0.035369474\n",
            "grg & tweetshelps  :  0.08431135\n",
            "grg & httptcotzigD99b  :  -0.01550769\n",
            "grg & مثل  :  0.025113532\n",
            "grg & sleeep  :  0.31326327\n",
            "grg & sync  :  0.26080063\n",
            "grg & …and  :  -0.13920058\n",
            "grg & httptcoNkPjGP3W  :  0.03618505\n",
            "grg & httptco  :  -0.064591244\n",
            "dou & استخدام  :  -0.26460195\n",
            "dou & tweetshelps  :  0.044136725\n",
            "dou & grg  :  0.14971603\n",
            "dou & httptcotzigD99b  :  0.25920302\n",
            "dou & مثل  :  -0.054152597\n",
            "dou & sleeep  :  0.17275459\n",
            "dou & sync  :  0.26352304\n",
            "dou & …and  :  -0.03871846\n",
            "dou & httptcoNkPjGP3W  :  -0.013839473\n",
            "dou & httptco  :  0.026612282\n",
            "RESPECT & chillin  :  0.079412475\n",
            "RESPECT & استخدام  :  0.08858528\n",
            "RESPECT & tweetshelps  :  -0.092423506\n",
            "RESPECT & debloquer  :  -0.14935875\n",
            "RESPECT & grg  :  0.157669\n",
            "RESPECT & dou  :  -0.22859325\n",
            "RESPECT & httptcotzigD99b  :  -0.018463334\n",
            "RESPECT & مثل  :  -0.080044225\n",
            "RESPECT & sleeep  :  0.009211965\n",
            "RESPECT & sync  :  -0.17466767\n",
            "RESPECT & …and  :  -0.20936695\n",
            "RESPECT & content  :  0.10116645\n",
            "RESPECT & httptcoNkPjGP3W  :  0.38044298\n",
            "RESPECT & httptco  :  0.032795787\n",
            "RESPECT & blowed  :  -0.028336935\n",
            "httptcotzigD99b & استخدام  :  -0.12521192\n",
            "httptcotzigD99b & tweetshelps  :  0.0022096839\n",
            "httptcotzigD99b & مثل  :  -0.07990144\n",
            "httptcotzigD99b & sleeep  :  0.20209554\n",
            "httptcotzigD99b & sync  :  -0.1258459\n",
            "httptcotzigD99b & …and  :  -0.11052887\n",
            "7ki3arabi & chillin  :  -0.13951094\n",
            "7ki3arabi & Pearson  :  0.22245736\n",
            "7ki3arabi & استخدام  :  -0.14394724\n",
            "7ki3arabi & tweetshelps  :  0.080798864\n",
            "7ki3arabi & Buzz  :  -0.14948942\n",
            "7ki3arabi & debloquer  :  -0.09830838\n",
            "7ki3arabi & grg  :  0.1752384\n",
            "7ki3arabi & dou  :  -0.036536917\n",
            "7ki3arabi & RESPECT  :  0.06278193\n",
            "7ki3arabi & httptcotzigD99b  :  0.048811495\n",
            "7ki3arabi & مثل  :  0.027967826\n",
            "7ki3arabi & sleeep  :  0.2653343\n",
            "7ki3arabi & sync  :  -0.047295734\n",
            "7ki3arabi & …and  :  -0.14473903\n",
            "7ki3arabi & content  :  0.14890745\n",
            "7ki3arabi & httptcoNkPjGP3W  :  -0.33224738\n",
            "7ki3arabi & httptco  :  -0.029091457\n",
            "7ki3arabi & blowed  :  0.13386165\n",
            "مثل & …and  :  0.014681622\n",
            "sleeep & استخدام  :  -0.03362526\n",
            "sleeep & tweetshelps  :  0.085911505\n",
            "sleeep & مثل  :  0.008889177\n",
            "sleeep & sync  :  0.14090908\n",
            "sleeep & …and  :  -0.058642942\n",
            "sync & استخدام  :  0.28949443\n",
            "sync & tweetshelps  :  -0.2634164\n",
            "sync & مثل  :  -0.000974906\n",
            "sync & …and  :  0.096389666\n",
            "content & استخدام  :  -0.08837116\n",
            "content & tweetshelps  :  0.049111452\n",
            "content & debloquer  :  0.07806628\n",
            "content & grg  :  -0.05953226\n",
            "content & dou  :  -0.1913934\n",
            "content & httptcotzigD99b  :  -0.061460845\n",
            "content & مثل  :  -0.094271764\n",
            "content & sleeep  :  0.07656789\n",
            "content & sync  :  -0.13796008\n",
            "content & …and  :  0.21540448\n",
            "content & httptcoNkPjGP3W  :  -0.14057696\n",
            "content & httptco  :  -0.15845725\n",
            "httptcoNkPjGP3W & استخدام  :  0.09671007\n",
            "httptcoNkPjGP3W & tweetshelps  :  0.0047044856\n",
            "httptcoNkPjGP3W & httptcotzigD99b  :  0.0661171\n",
            "httptcoNkPjGP3W & مثل  :  -0.08617511\n",
            "httptcoNkPjGP3W & sleeep  :  -0.051656824\n",
            "httptcoNkPjGP3W & sync  :  -0.12647851\n",
            "httptcoNkPjGP3W & …and  :  -0.15645054\n",
            "httptco & استخدام  :  -0.0768529\n",
            "httptco & tweetshelps  :  -0.06224587\n",
            "httptco & httptcotzigD99b  :  -0.015005057\n",
            "httptco & مثل  :  0.11890438\n",
            "httptco & sleeep  :  -0.12971888\n",
            "httptco & sync  :  -0.013966008\n",
            "httptco & …and  :  0.2582565\n",
            "httptco & httptcoNkPjGP3W  :  0.1462633\n",
            "blowed & chillin  :  -0.11573888\n",
            "blowed & استخدام  :  0.06733078\n",
            "blowed & tweetshelps  :  0.083665766\n",
            "blowed & debloquer  :  0.0034908806\n",
            "blowed & grg  :  -0.06888584\n",
            "blowed & dou  :  -0.11904708\n",
            "blowed & httptcotzigD99b  :  -0.23183191\n",
            "blowed & مثل  :  -0.024405217\n",
            "blowed & sleeep  :  -0.1152711\n",
            "blowed & sync  :  -0.12888645\n",
            "blowed & …and  :  0.038012266\n",
            "blowed & content  :  0.14959888\n",
            "blowed & httptcoNkPjGP3W  :  -0.008763176\n",
            "blowed & httptco  :  0.24639285\n"
          ],
          "name": "stdout"
        },
        {
          "output_type": "stream",
          "text": [
            "/usr/local/lib/python3.6/dist-packages/ipykernel_launcher.py:4: DeprecationWarning: Call to deprecated `similarity` (Method will be removed in 4.0.0, use self.wv.similarity() instead).\n",
            "  after removing the cwd from sys.path.\n",
            "/usr/local/lib/python3.6/dist-packages/gensim/matutils.py:737: FutureWarning: Conversion of the second argument of issubdtype from `int` to `np.signedinteger` is deprecated. In future, it will be treated as `np.int64 == np.dtype(int).type`.\n",
            "  if np.issubdtype(vec.dtype, np.int):\n"
          ],
          "name": "stderr"
        }
      ]
    },
    {
      "cell_type": "code",
      "metadata": {
        "id": "ach-CYNLcV1A",
        "colab_type": "code",
        "colab": {}
      },
      "source": [
        ""
      ],
      "execution_count": 0,
      "outputs": []
    }
  ]
}
