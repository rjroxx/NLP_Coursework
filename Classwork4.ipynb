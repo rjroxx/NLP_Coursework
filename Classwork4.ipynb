{
  "nbformat": 4,
  "nbformat_minor": 0,
  "metadata": {
    "colab": {
      "name": "Classwork4.ipynb",
      "provenance": [],
      "collapsed_sections": [],
      "include_colab_link": true
    },
    "kernelspec": {
      "name": "python3",
      "display_name": "Python 3"
    },
    "accelerator": "GPU"
  },
  "cells": [
    {
      "cell_type": "markdown",
      "metadata": {
        "id": "view-in-github",
        "colab_type": "text"
      },
      "source": [
        "<a href=\"https://colab.research.google.com/github/rjroxx/NLP_Coursework/blob/master/Classwork4.ipynb\" target=\"_parent\"><img src=\"https://colab.research.google.com/assets/colab-badge.svg\" alt=\"Open In Colab\"/></a>"
      ]
    },
    {
      "cell_type": "code",
      "metadata": {
        "id": "xQLHr-Y72QPZ",
        "colab_type": "code",
        "colab": {}
      },
      "source": [
        "\n",
        "import nltk\n",
        "import pandas as pd\n",
        "\n",
        "from nltk.sentiment.vader import SentimentIntensityAnalyzer\n",
        "from textblob import TextBlob\n",
        "\n",
        "from sklearn.metrics import confusion_matrix, accuracy_score\n",
        "\n",
        "#from glove import Glove"
      ],
      "execution_count": 0,
      "outputs": []
    },
    {
      "cell_type": "code",
      "metadata": {
        "id": "4E0QxQAwC4zE",
        "colab_type": "code",
        "outputId": "b421de07-b492-454d-e798-d597be01802e",
        "colab": {
          "base_uri": "https://localhost:8080/",
          "height": 51
        }
      },
      "source": [
        "nltk.download('vader_lexicon')"
      ],
      "execution_count": 2,
      "outputs": [
        {
          "output_type": "stream",
          "text": [
            "[nltk_data] Downloading package vader_lexicon to /root/nltk_data...\n"
          ],
          "name": "stdout"
        },
        {
          "output_type": "execute_result",
          "data": {
            "text/plain": [
              "True"
            ]
          },
          "metadata": {
            "tags": []
          },
          "execution_count": 2
        }
      ]
    },
    {
      "cell_type": "code",
      "metadata": {
        "id": "X2zBa8A1iRgX",
        "colab_type": "code",
        "colab": {}
      },
      "source": [
        "url=\"http://snap.stanford.edu/data/amazon/productGraph/categoryFiles/reviews_Office_Products_5.json.gz\"\n",
        "df=pd.read_json(url,lines=True)\n",
        "dp=df.head(50)"
      ],
      "execution_count": 0,
      "outputs": []
    },
    {
      "cell_type": "code",
      "metadata": {
        "id": "3-Pq-JGI2l0q",
        "colab_type": "code",
        "colab": {
          "base_uri": "https://localhost:8080/",
          "height": 85
        },
        "outputId": "e352e485-820b-4298-b59a-525d2e89b3fb"
      },
      "source": [
        "url1=\"https://raw.githubusercontent.com/zfz/twitter_corpus/master/full-corpus.csv\"\n",
        "df1=pd.read_csv(url1)\n",
        "\n",
        "df1 = df1[df1['Sentiment'] != \"irrelevant\"]\n",
        "df1['Sentiment'].value_counts()"
      ],
      "execution_count": 76,
      "outputs": [
        {
          "output_type": "execute_result",
          "data": {
            "text/plain": [
              "neutral     2333\n",
              "negative     572\n",
              "positive     519\n",
              "Name: Sentiment, dtype: int64"
            ]
          },
          "metadata": {
            "tags": []
          },
          "execution_count": 76
        }
      ]
    },
    {
      "cell_type": "code",
      "metadata": {
        "id": "NprS1vbb2970",
        "colab_type": "code",
        "outputId": "f643f741-5044-49c3-93f6-41ed61e0fd05",
        "colab": {
          "base_uri": "https://localhost:8080/",
          "height": 204
        }
      },
      "source": [
        "df1.head()"
      ],
      "execution_count": 77,
      "outputs": [
        {
          "output_type": "execute_result",
          "data": {
            "text/html": [
              "<div>\n",
              "<style scoped>\n",
              "    .dataframe tbody tr th:only-of-type {\n",
              "        vertical-align: middle;\n",
              "    }\n",
              "\n",
              "    .dataframe tbody tr th {\n",
              "        vertical-align: top;\n",
              "    }\n",
              "\n",
              "    .dataframe thead th {\n",
              "        text-align: right;\n",
              "    }\n",
              "</style>\n",
              "<table border=\"1\" class=\"dataframe\">\n",
              "  <thead>\n",
              "    <tr style=\"text-align: right;\">\n",
              "      <th></th>\n",
              "      <th>Topic</th>\n",
              "      <th>Sentiment</th>\n",
              "      <th>TweetId</th>\n",
              "      <th>TweetDate</th>\n",
              "      <th>TweetText</th>\n",
              "    </tr>\n",
              "  </thead>\n",
              "  <tbody>\n",
              "    <tr>\n",
              "      <th>0</th>\n",
              "      <td>apple</td>\n",
              "      <td>positive</td>\n",
              "      <td>126415614616154112</td>\n",
              "      <td>Tue Oct 18 21:53:25 +0000 2011</td>\n",
              "      <td>Now all @Apple has to do is get swype on the i...</td>\n",
              "    </tr>\n",
              "    <tr>\n",
              "      <th>1</th>\n",
              "      <td>apple</td>\n",
              "      <td>positive</td>\n",
              "      <td>126404574230740992</td>\n",
              "      <td>Tue Oct 18 21:09:33 +0000 2011</td>\n",
              "      <td>@Apple will be adding more carrier support to ...</td>\n",
              "    </tr>\n",
              "    <tr>\n",
              "      <th>2</th>\n",
              "      <td>apple</td>\n",
              "      <td>positive</td>\n",
              "      <td>126402758403305474</td>\n",
              "      <td>Tue Oct 18 21:02:20 +0000 2011</td>\n",
              "      <td>Hilarious @youtube video - guy does a duet wit...</td>\n",
              "    </tr>\n",
              "    <tr>\n",
              "      <th>3</th>\n",
              "      <td>apple</td>\n",
              "      <td>positive</td>\n",
              "      <td>126397179614068736</td>\n",
              "      <td>Tue Oct 18 20:40:10 +0000 2011</td>\n",
              "      <td>@RIM you made it too easy for me to switch to ...</td>\n",
              "    </tr>\n",
              "    <tr>\n",
              "      <th>4</th>\n",
              "      <td>apple</td>\n",
              "      <td>positive</td>\n",
              "      <td>126395626979196928</td>\n",
              "      <td>Tue Oct 18 20:34:00 +0000 2011</td>\n",
              "      <td>I just realized that the reason I got into twi...</td>\n",
              "    </tr>\n",
              "  </tbody>\n",
              "</table>\n",
              "</div>"
            ],
            "text/plain": [
              "   Topic  ...                                          TweetText\n",
              "0  apple  ...  Now all @Apple has to do is get swype on the i...\n",
              "1  apple  ...  @Apple will be adding more carrier support to ...\n",
              "2  apple  ...  Hilarious @youtube video - guy does a duet wit...\n",
              "3  apple  ...  @RIM you made it too easy for me to switch to ...\n",
              "4  apple  ...  I just realized that the reason I got into twi...\n",
              "\n",
              "[5 rows x 5 columns]"
            ]
          },
          "metadata": {
            "tags": []
          },
          "execution_count": 77
        }
      ]
    },
    {
      "cell_type": "code",
      "metadata": {
        "id": "PDC7qg9J6WLu",
        "colab_type": "code",
        "colab": {}
      },
      "source": [
        "def custom_func(text):\n",
        "  tbb=TextBlob(text).sentiment\n",
        "  p=tbb.polarity\n",
        "  if p > 0.0:\n",
        "    return \"Positive\"\n",
        "  elif p == 0.0:\n",
        "    return \"Neutral\"\n",
        "  else:\n",
        "    return \"Negative\""
      ],
      "execution_count": 0,
      "outputs": []
    },
    {
      "cell_type": "code",
      "metadata": {
        "id": "xoXq2sDN6rrt",
        "colab_type": "code",
        "colab": {
          "base_uri": "https://localhost:8080/",
          "height": 119
        },
        "outputId": "f9d0e34f-bf89-4beb-8dc8-0e2c454342b9"
      },
      "source": [
        "dp['tbb_sentiment']=dp['reviewText'].apply(lambda x:custom_func(x))"
      ],
      "execution_count": 79,
      "outputs": [
        {
          "output_type": "stream",
          "text": [
            "/usr/local/lib/python3.6/dist-packages/ipykernel_launcher.py:1: SettingWithCopyWarning: \n",
            "A value is trying to be set on a copy of a slice from a DataFrame.\n",
            "Try using .loc[row_indexer,col_indexer] = value instead\n",
            "\n",
            "See the caveats in the documentation: http://pandas.pydata.org/pandas-docs/stable/user_guide/indexing.html#returning-a-view-versus-a-copy\n",
            "  \"\"\"Entry point for launching an IPython kernel.\n"
          ],
          "name": "stderr"
        }
      ]
    },
    {
      "cell_type": "code",
      "metadata": {
        "id": "Mw0U109A6r8x",
        "colab_type": "code",
        "colab": {}
      },
      "source": [
        "def custom(text):\n",
        "  sia =SentimentIntensityAnalyzer()  \n",
        "  sps = sia.polarity_scores(text)\n",
        "  if sps['compound'] >= 0.05:\n",
        "    return \"Positive\"\n",
        "  elif sps['compound'] <= -0.05:\n",
        "    return \"Negative\"\n",
        "  else:\n",
        "    return \"Neutral\"\n",
        "      \n",
        "    "
      ],
      "execution_count": 0,
      "outputs": []
    },
    {
      "cell_type": "code",
      "metadata": {
        "id": "gMZIfkAZ6r5v",
        "colab_type": "code",
        "colab": {}
      },
      "source": [
        "dp['sia_sentiment']=dp['reviewText'].apply(lambda x:custom(x))"
      ],
      "execution_count": 0,
      "outputs": []
    },
    {
      "cell_type": "markdown",
      "metadata": {
        "id": "u_osGV5OFMR8",
        "colab_type": "text"
      },
      "source": [
        "For Twitter dataset\n"
      ]
    },
    {
      "cell_type": "code",
      "metadata": {
        "id": "KI-SF6ld6sFf",
        "colab_type": "code",
        "colab": {}
      },
      "source": [
        "df1['tbb_sentiment']=df1['TweetText'].apply(lambda x:custom_func(x))"
      ],
      "execution_count": 0,
      "outputs": []
    },
    {
      "cell_type": "code",
      "metadata": {
        "colab_type": "code",
        "id": "Fz3p2i3IFjEe",
        "colab": {}
      },
      "source": [
        "df1['sia_sentiment']=df1['TweetText'].apply(lambda x:custom(x))"
      ],
      "execution_count": 0,
      "outputs": []
    },
    {
      "cell_type": "code",
      "metadata": {
        "id": "XXqQQRv66sLt",
        "colab_type": "code",
        "colab": {
          "base_uri": "https://localhost:8080/",
          "height": 340
        },
        "outputId": "617a249c-19f9-4a43-ed9a-41d80a5f8df6"
      },
      "source": [
        "cmtt = confusion_matrix(df1['Sentiment'], df1['sia_sentiment'])\n",
        "cmtt1 = confusion_matrix(df1['Sentiment'], df1['tbb_sentiment'])\n",
        "acctt = accuracy_score(df1['Sentiment'],df1 ['sia_sentiment'])\n",
        "acctt1 = accuracy_score(['Sentiment'], ['tbb_sentiment'])\n",
        "print(\"Twitter \\n\")\n",
        "print(\"SIA confusion matrix is: \")\n",
        "print(cmtt)\n",
        "print(\"Its accuracy is: \", acctt)\n",
        "print(\" \")\n",
        "print(\"TextBlob confusion matrix is: \")\n",
        "print(cmtt1)\n",
        "print(\"Its accuracy is: \", acctt1)"
      ],
      "execution_count": 85,
      "outputs": [
        {
          "output_type": "stream",
          "text": [
            "Twitter \n",
            "\n",
            "SIA confusion matrix is: \n",
            "[[   0    0    0    0    0    0]\n",
            " [   0    0    0    0    0    0]\n",
            " [   0    0    0    0    0    0]\n",
            " [ 291  138  143    0    0    0]\n",
            " [ 302 1234  797    0    0    0]\n",
            " [  47   99  373    0    0    0]]\n",
            "Its accuracy is:  0.0\n",
            " \n",
            "TextBlob confusion matrix is: \n",
            "[[   0    0    0    0    0    0]\n",
            " [   0    0    0    0    0    0]\n",
            " [   0    0    0    0    0    0]\n",
            " [ 234  171  167    0    0    0]\n",
            " [ 201 1213  919    0    0    0]\n",
            " [  38  124  357    0    0    0]]\n",
            "Its accuracy is:  0.0\n"
          ],
          "name": "stdout"
        }
      ]
    },
    {
      "cell_type": "code",
      "metadata": {
        "id": "D3Xl7IdV6sDt",
        "colab_type": "code",
        "colab": {}
      },
      "source": [
        ""
      ],
      "execution_count": 0,
      "outputs": []
    }
  ]
}